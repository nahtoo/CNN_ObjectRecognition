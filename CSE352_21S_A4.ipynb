{
  "cells": [
    {
      "cell_type": "markdown",
      "metadata": {
        "id": "XSfnuObtYYMH"
      },
      "source": [
        "## Description\n",
        "---\n",
        "This project is an introduction to deep learning tools for computer vision. You will design and train deep convolutional networks for object recognition ([cifar-10](https://www.cs.toronto.edu/~kriz/cifar.html)) using [PyTorch](http://pytorch.org). \n",
        "\n",
        "In Problem 1, you will use the pre-trained features from a given CNN backbone network, and train a simple neural network consisting of a couple of feedforward layers and a classification layer. You will need to implement the loss function.\n",
        "\n",
        "In Problem 2, you will implement your own CNN model, initialize model weights randomly and train from scratch.\n",
        "\n",
        "In Problem 3, you will modify the given pre-trained CNN model and fine-tune model weights with the training data.\n",
        "\n",
        "There are 3 problems in this homework with a total of 100 points. Be sure to read **Submission Guidelines** below. They are important. For the problems requiring text descriptions, you might want to add a markdown block for that.\n",
        "\n",
        "**This assignment requries GPU. Make sure you choose GPU accelerator in Colab setting.**\n",
        "\n",
        "**You are highly suggested to read this tutorial https://pytorch.org/tutorials/beginner/blitz/cifar10_tutorial.html before doing this homework.**\n",
        "\n",
        "## Some Tutorials (PyTorch)\n",
        "---\n",
        "- You will be using PyTorch for deep learning toolbox (follow the [link](http://pytorch.org) for installation). By default, Colab has installed PyTorch.\n",
        "- For PyTorch beginners, please read this [tutorial](http://pytorch.org/tutorials/beginner/deep_learning_60min_blitz.html) before doing your homework.\n",
        "- Feel free to study more tutorials at http://pytorch.org/tutorials/.\n",
        "- Find cool visualization here at http://playground.tensorflow.org.\n",
        "- Stanford cs231n class at https://cs231n.github.io/.\n",
        "\n",
        "## A Few Terminologies\n",
        "---\n",
        "If you are unfamilar with deep learing terminologies, here is a brief tutorial https://www.analyticsvidhya.com/blog/2017/05/25-must-know-terms-concepts-for-beginners-in-deep-learning/\n",
        "\n",
        "Some important concepts include:\n",
        "\n",
        "Cost Function, Learning Rate, Batches, Epochs, Batch Normalization, Filters, CNN, Pooling\n",
        "\n",
        "\n"
      ]
    },
    {
      "cell_type": "code",
      "execution_count": 2,
      "metadata": {
        "id": "0UA6WFgcYYMI"
      },
      "outputs": [],
      "source": [
        "# import packages here\n",
        "import cv2\n",
        "import numpy as np\n",
        "import matplotlib.pyplot as plt\n",
        "import glob\n",
        "import random \n",
        "import time\n",
        "\n",
        "import torch\n",
        "import torchvision\n",
        "import torchvision.transforms as transforms\n",
        "\n",
        "from torch.autograd import Variable\n",
        "import torch.nn as nn\n",
        "import torch.nn.functional as F"
      ]
    },
    {
      "cell_type": "code",
      "execution_count": 3,
      "metadata": {
        "colab": {
          "base_uri": "https://localhost:8080/"
        },
        "id": "L7T72O-1ks-a",
        "outputId": "a2f9e0ca-e472-4d21-956e-0c1b4155c025"
      },
      "outputs": [
        {
          "name": "stdout",
          "output_type": "stream",
          "text": [
            "Mounted at /content/gdrive\n"
          ]
        }
      ],
      "source": [
        "# Mount your google drive where you've saved your assignment folder\n",
        "from google.colab import drive\n",
        "drive.mount('/content/gdrive')"
      ]
    },
    {
      "cell_type": "code",
      "execution_count": 4,
      "metadata": {
        "id": "xIT3WIuykrg0"
      },
      "outputs": [],
      "source": [
        "# Set your working directory (in your google drive)\n",
        "#   change it to your specific homework directory.\n",
        "import os\n",
        "os.chdir(\"/content/gdrive/My Drive/Course/CSE352-21S/\")"
      ]
    },
    {
      "cell_type": "markdown",
      "metadata": {
        "id": "HnkJ-LmJyBod"
      },
      "source": [
        "## Problem 0: Get Pre-trained CNN model from Cifar-100\n",
        "---\n",
        "This part is hidden. Students **DO NOT** need to do anything here.\n",
        "---\n",
        "The model is pre-trained with Cifar-100 for 100 class classification.\n",
        "\n",
        "Model file is provided. "
      ]
    },
    {
      "cell_type": "markdown",
      "metadata": {
        "id": "cl8Bo6fCnliN"
      },
      "source": [
        "Adapted from https://zhenye-na.github.io/2018/10/07/pytorch-resnet-cifar100.html"
      ]
    },
    {
      "cell_type": "code",
      "execution_count": null,
      "metadata": {
        "colab": {
          "base_uri": "https://localhost:8080/",
          "height": 117,
          "referenced_widgets": [
            "dd7eff7f6d2e4bf3b9f24a207533ccf0",
            "9fc4df7c0fb14418928a8d039e2822b1",
            "bc49f12ae387481fae119989197eb601",
            "c49b0b15b70245d7a4b88a67a96f1a6d",
            "8358f5436a1e4f70b3b8e1aed58a7ad7",
            "f071b0ffedd645e6a0c249bea65fc6c2",
            "a734dba9fae445ba9f18ae5abbab825e",
            "24c2f44c42864f939030e4a33573e919"
          ]
        },
        "id": "jwz3OcMmxXH9",
        "outputId": "29f4486a-1095-4677-c936-102aaf558bd7"
      },
      "outputs": [
        {
          "name": "stdout",
          "output_type": "stream",
          "text": [
            "Downloading https://www.cs.toronto.edu/~kriz/cifar-100-python.tar.gz to ./data/cifar-100-python.tar.gz\n"
          ]
        },
        {
          "data": {
            "application/vnd.jupyter.widget-view+json": {
              "model_id": "dd7eff7f6d2e4bf3b9f24a207533ccf0",
              "version_major": 2,
              "version_minor": 0
            },
            "text/plain": [
              "HBox(children=(FloatProgress(value=0.0, max=169001437.0), HTML(value='')))"
            ]
          },
          "metadata": {
            "tags": []
          },
          "output_type": "display_data"
        },
        {
          "name": "stdout",
          "output_type": "stream",
          "text": [
            "\n",
            "Extracting ./data/cifar-100-python.tar.gz to ./data\n",
            "Files already downloaded and verified\n"
          ]
        }
      ],
      "source": [
        "# Normalize training set together with augmentation\n",
        "transform_train = transforms.Compose([\n",
        "    transforms.RandomCrop(32, padding=4),\n",
        "    transforms.RandomHorizontalFlip(),\n",
        "    transforms.ToTensor(),\n",
        "    transforms.Normalize(mean=[0.507, 0.487, 0.441], std=[0.267, 0.256, 0.276])\n",
        "])\n",
        "\n",
        "# Normalize test set same as training set without augmentation\n",
        "transform_test = transforms.Compose([\n",
        "    transforms.ToTensor(),\n",
        "    transforms.Normalize(mean=[0.507, 0.487, 0.441], std=[0.267, 0.256, 0.276])\n",
        "])\n",
        "\n",
        "trainset = torchvision.datasets.CIFAR100(root='./data', train=True,\n",
        "            download=True, transform=transform_train)\n",
        "trainloader = torch.utils.data.DataLoader(trainset, batch_size=256,\n",
        "            shuffle=True, num_workers=2)\n",
        "\n",
        "testset = torchvision.datasets.CIFAR100(root='./data', train=False,\n",
        "            download=True, transform=transform_test)\n",
        "testloader = torch.utils.data.DataLoader(testset, batch_size=256,\n",
        "            shuffle=False, num_workers=2)"
      ]
    },
    {
      "cell_type": "code",
      "execution_count": null,
      "metadata": {
        "id": "zcAy8_ENdBFq"
      },
      "outputs": [],
      "source": [
        "def conv3x3(in_channels, out_channels, stride=1):\n",
        "    \"\"\"3x3 kernel size with padding convolutional layer in ResNet BasicBlock.\"\"\"\n",
        "    return nn.Conv2d(\n",
        "        in_channels=in_channels,\n",
        "        out_channels=out_channels,\n",
        "        kernel_size=3,\n",
        "        stride=stride,\n",
        "        padding=1,\n",
        "        bias=False)\n",
        "\n",
        "\n",
        "class BasicBlock(nn.Module):\n",
        "    \"\"\"Basic Block of ReseNet.\"\"\"\n",
        "\n",
        "    def __init__(self, in_channels, out_channels, stride=1, downsample=None):\n",
        "        \"\"\"Basic Block of ReseNet Builder.\"\"\"\n",
        "        super(BasicBlock, self).__init__()\n",
        "\n",
        "        # First conv3x3 layer\n",
        "        self.conv1 = conv3x3(in_channels, out_channels, stride)\n",
        "\n",
        "        #  Batch Normalization\n",
        "        self.bn1 = nn.BatchNorm2d(num_features=out_channels)\n",
        "\n",
        "        # ReLU Activation Function\n",
        "        self.relu = nn.ReLU(inplace=True)\n",
        "\n",
        "        # Second conv3x3 layer\n",
        "        self.conv2 = conv3x3(out_channels, out_channels)\n",
        "\n",
        "        #  Batch Normalization\n",
        "        self.bn2 = nn.BatchNorm2d(num_features=out_channels)\n",
        "\n",
        "        # downsample for `residual`\n",
        "        self.downsample = downsample\n",
        "        self.stride = stride\n",
        "\n",
        "    def forward(self, x):\n",
        "        \"\"\"Forward Pass of Basic Block.\"\"\"\n",
        "        residual = x\n",
        "\n",
        "        out = self.conv1(x)\n",
        "        out = self.bn1(out)\n",
        "        out = self.relu(out)\n",
        "        out = self.conv2(out)\n",
        "        out = self.bn2(out)\n",
        "\n",
        "        if self.downsample is not None:\n",
        "            residual = self.downsample(x)\n",
        "\n",
        "        out += residual\n",
        "        return out"
      ]
    },
    {
      "cell_type": "code",
      "execution_count": null,
      "metadata": {
        "id": "RcSve9l0dDwL"
      },
      "outputs": [],
      "source": [
        "class ResNet(nn.Module):\n",
        "    \"\"\"Residual Neural Network.\"\"\"\n",
        "\n",
        "    def __init__(self, num_classes=100):\n",
        "        block = BasicBlock\n",
        "        duplicates = [2,4,4,2]\n",
        "\n",
        "        \"\"\"Residual Neural Network Builder.\"\"\"\n",
        "        super(ResNet, self).__init__()\n",
        "\n",
        "        self.in_channels = 32\n",
        "        self.conv1 = conv3x3(in_channels=3, out_channels=32)\n",
        "        self.bn = nn.BatchNorm2d(num_features=32)\n",
        "        self.relu = nn.ReLU(inplace=True)\n",
        "        self.dropout = nn.Dropout2d(p=0.02)\n",
        "\n",
        "        # block of Basic Blocks\n",
        "        self.conv2_x = self._make_block(block, duplicates[0], out_channels=32)\n",
        "        self.conv3_x = self._make_block(block, duplicates[1], out_channels=64, stride=2)\n",
        "        self.conv4_x = self._make_block(block, duplicates[2], out_channels=128, stride=2)\n",
        "        self.conv5_x = self._make_block(block, duplicates[3], out_channels=256, stride=2)\n",
        "\n",
        "        self.maxpool = nn.MaxPool2d(kernel_size=4, stride=1)\n",
        "        self.fc_layer = nn.Linear(256, num_classes)\n",
        "\n",
        "        # initialize weights\n",
        "        # self.apply(initialize_weights)\n",
        "        for m in self.modules():\n",
        "            if isinstance(m, nn.Conv2d):\n",
        "                nn.init.kaiming_normal_(m.weight.data, mode='fan_out')\n",
        "            elif isinstance(m, nn.BatchNorm2d):\n",
        "                m.weight.data.fill_(1)\n",
        "                m.bias.data.zero_()\n",
        "            elif isinstance(m, nn.Linear):\n",
        "                m.bias.data.zero_()\n",
        "\n",
        "    def _make_block(self, block, duplicates, out_channels, stride=1):\n",
        "        \"\"\"\n",
        "        Create Block in ResNet.\n",
        "\n",
        "        Args:\n",
        "            block: BasicBlock\n",
        "            duplicates: number of BasicBlock\n",
        "            out_channels: out channels of the block\n",
        "\n",
        "        Returns:\n",
        "            nn.Sequential(*layers)\n",
        "        \"\"\"\n",
        "        downsample = None\n",
        "        if (stride != 1) or (self.in_channels != out_channels):\n",
        "            downsample = nn.Sequential(\n",
        "                conv3x3(self.in_channels, out_channels, stride=stride),\n",
        "                nn.BatchNorm2d(num_features=out_channels)\n",
        "            )\n",
        "\n",
        "        layers = []\n",
        "        layers.append(\n",
        "            block(self.in_channels, out_channels, stride, downsample))\n",
        "        self.in_channels = out_channels\n",
        "        for _ in range(1, duplicates):\n",
        "            layers.append(block(out_channels, out_channels))\n",
        "\n",
        "        return nn.Sequential(*layers)\n",
        "\n",
        "\n",
        "    def pretrained_feature(self, x):\n",
        "        \"\"\"Forward pass of ResNet.\"\"\"\n",
        "        out = self.conv1(x)\n",
        "        out = self.bn(out)\n",
        "        out = self.relu(out)\n",
        "        out = self.dropout(out)\n",
        "\n",
        "        # Stacked Basic Blocks\n",
        "        out = self.conv2_x(out)\n",
        "        out = self.conv3_x(out)\n",
        "        out = self.conv4_x(out)\n",
        "        out = self.conv5_x(out)\n",
        "\n",
        "        out = self.maxpool(out)\n",
        "        out = out.view(out.size(0), -1)\n",
        "        return out.detach()\n",
        "    \n",
        "    def forward(self, x):\n",
        "        \"\"\"Forward pass of ResNet.\"\"\"\n",
        "        out = self.conv1(x)\n",
        "        out = self.bn(out)\n",
        "        out = self.relu(out)\n",
        "        out = self.dropout(out)\n",
        "\n",
        "        # Stacked Basic Blocks\n",
        "        out = self.conv2_x(out)\n",
        "        out = self.conv3_x(out)\n",
        "        out = self.conv4_x(out)\n",
        "        out = self.conv5_x(out)\n",
        "\n",
        "        out = self.maxpool(out)\n",
        "        out = out.view(out.size(0), -1)\n",
        "        out = self.fc_layer(out)\n",
        "\n",
        "        return out\n",
        "\n",
        "pretrainNet = ResNet().cuda()"
      ]
    },
    {
      "cell_type": "code",
      "execution_count": null,
      "metadata": {
        "id": "5UqJZeeQxePo"
      },
      "outputs": [],
      "source": [
        "import torch.nn as nn\n",
        "import torch.nn.functional as F\n",
        "\n",
        "\n",
        "class PreTrainNet(nn.Module):\n",
        "    def __init__(self):\n",
        "        super(PreTrainNet, self).__init__()\n",
        "        self.conv1 = nn.Conv2d(3, 6, 3)\n",
        "        self.conv2 = nn.Conv2d(6, 8, 3)\n",
        "        self.conv3 = nn.Conv2d(8, 16, 3)\n",
        "        self.conv4 = nn.Conv2d(16, 16, 3)\n",
        "        self.pool = nn.MaxPool2d(2, 2)\n",
        "        self.fc1 = nn.Linear(16 * 5 * 5, 256)\n",
        "        self.fc2 = nn.Linear(256, 256)\n",
        "        self.fc3 = nn.Linear(256, 100)\n",
        "\n",
        "    def feature(self, x):\n",
        "        x = F.relu(self.conv1(x))\n",
        "        x = F.relu(self.conv2(x))\n",
        "        x = self.pool(x)\n",
        "        x = F.relu(self.conv3(x))\n",
        "        x = F.relu(self.conv4(x))\n",
        "        x = self.pool(x)\n",
        "        x = x.view(-1, 16 * 5 * 5)\n",
        "        x = F.relu(self.fc1(x))\n",
        "        x = self.fc2(x)\n",
        "        return x\n",
        "\n",
        "    def pretrained_feature(self, x):\n",
        "        return x.detach()\n",
        "\n",
        "    def forward(self, x):\n",
        "        x = self.feature(x)\n",
        "        x = F.relu(x)\n",
        "        x = self.fc3(x)\n",
        "        return x\n",
        "\n",
        "\n",
        "pretrainNet = PreTrainNet().cuda()"
      ]
    },
    {
      "cell_type": "code",
      "execution_count": null,
      "metadata": {
        "id": "ZBAXHd_h0qAe"
      },
      "outputs": [],
      "source": [
        "import torch.optim as optim\n",
        "\n",
        "criterion = nn.CrossEntropyLoss()\n",
        "optimizer = optim.SGD(pretrainNet.parameters(), lr=0.02, momentum=0.9, weight_decay=1e-5)"
      ]
    },
    {
      "cell_type": "code",
      "execution_count": null,
      "metadata": {
        "colab": {
          "base_uri": "https://localhost:8080/"
        },
        "id": "UOeWdNWrxw-v",
        "outputId": "71db3357-969a-4e94-df5e-97a0a7e9b550"
      },
      "outputs": [
        {
          "name": "stdout",
          "output_type": "stream",
          "text": [
            "[1,    50] loss: 0.357\n",
            "[1,   100] loss: 0.358\n",
            "[1,   150] loss: 0.353\n",
            "[2,    50] loss: 0.350\n",
            "[2,   100] loss: 0.345\n",
            "[2,   150] loss: 0.358\n",
            "[3,    50] loss: 0.352\n",
            "[3,   100] loss: 0.362\n",
            "[3,   150] loss: 0.346\n",
            "[4,    50] loss: 0.346\n",
            "[4,   100] loss: 0.348\n",
            "[4,   150] loss: 0.369\n",
            "[5,    50] loss: 0.339\n",
            "[5,   100] loss: 0.368\n",
            "[5,   150] loss: 0.354\n",
            "[6,    50] loss: 0.352\n",
            "[6,   100] loss: 0.358\n",
            "[6,   150] loss: 0.351\n",
            "[7,    50] loss: 0.345\n",
            "[7,   100] loss: 0.354\n",
            "[7,   150] loss: 0.353\n",
            "[8,    50] loss: 0.348\n",
            "[8,   100] loss: 0.345\n",
            "[8,   150] loss: 0.351\n",
            "[9,    50] loss: 0.343\n",
            "[9,   100] loss: 0.346\n",
            "[9,   150] loss: 0.341\n",
            "[10,    50] loss: 0.345\n",
            "[10,   100] loss: 0.343\n",
            "[10,   150] loss: 0.346\n",
            "[11,    50] loss: 0.344\n",
            "[11,   100] loss: 0.347\n",
            "[11,   150] loss: 0.342\n",
            "[12,    50] loss: 0.355\n",
            "[12,   100] loss: 0.347\n",
            "[12,   150] loss: 0.328\n",
            "[13,    50] loss: 0.356\n",
            "[13,   100] loss: 0.353\n",
            "[13,   150] loss: 0.340\n",
            "[14,    50] loss: 0.348\n",
            "[14,   100] loss: 0.344\n",
            "[14,   150] loss: 0.346\n",
            "[15,    50] loss: 0.351\n",
            "[15,   100] loss: 0.341\n",
            "[15,   150] loss: 0.347\n",
            "[16,    50] loss: 0.339\n",
            "[16,   100] loss: 0.341\n",
            "[16,   150] loss: 0.344\n",
            "[17,    50] loss: 0.332\n",
            "[17,   100] loss: 0.337\n",
            "[17,   150] loss: 0.347\n",
            "[18,    50] loss: 0.347\n",
            "[18,   100] loss: 0.343\n",
            "[18,   150] loss: 0.336\n",
            "[19,    50] loss: 0.331\n",
            "[19,   100] loss: 0.342\n",
            "[19,   150] loss: 0.339\n",
            "[20,    50] loss: 0.342\n",
            "[20,   100] loss: 0.333\n",
            "[20,   150] loss: 0.334\n",
            "[21,    50] loss: 0.347\n",
            "[21,   100] loss: 0.341\n",
            "[21,   150] loss: 0.320\n",
            "[22,    50] loss: 0.337\n",
            "[22,   100] loss: 0.327\n",
            "[22,   150] loss: 0.330\n",
            "[23,    50] loss: 0.336\n",
            "[23,   100] loss: 0.331\n",
            "[23,   150] loss: 0.330\n",
            "[24,    50] loss: 0.331\n",
            "[24,   100] loss: 0.332\n",
            "[24,   150] loss: 0.332\n",
            "[25,    50] loss: 0.333\n",
            "[25,   100] loss: 0.315\n",
            "[25,   150] loss: 0.328\n",
            "[26,    50] loss: 0.329\n",
            "[26,   100] loss: 0.334\n",
            "[26,   150] loss: 0.322\n",
            "[27,    50] loss: 0.329\n",
            "[27,   100] loss: 0.335\n",
            "[27,   150] loss: 0.322\n",
            "[28,    50] loss: 0.338\n",
            "[28,   100] loss: 0.313\n",
            "[28,   150] loss: 0.315\n",
            "[29,    50] loss: 0.327\n",
            "[29,   100] loss: 0.308\n",
            "[29,   150] loss: 0.321\n",
            "[30,    50] loss: 0.322\n",
            "[30,   100] loss: 0.312\n",
            "[30,   150] loss: 0.322\n",
            "[31,    50] loss: 0.320\n",
            "[31,   100] loss: 0.318\n",
            "[31,   150] loss: 0.319\n",
            "[32,    50] loss: 0.328\n",
            "[32,   100] loss: 0.314\n",
            "[32,   150] loss: 0.316\n",
            "[33,    50] loss: 0.314\n",
            "[33,   100] loss: 0.316\n",
            "[33,   150] loss: 0.300\n",
            "[34,    50] loss: 0.320\n",
            "[34,   100] loss: 0.310\n",
            "[34,   150] loss: 0.319\n",
            "[35,    50] loss: 0.317\n",
            "[35,   100] loss: 0.308\n",
            "[35,   150] loss: 0.316\n",
            "[36,    50] loss: 0.311\n",
            "[36,   100] loss: 0.299\n",
            "[36,   150] loss: 0.309\n",
            "[37,    50] loss: 0.304\n",
            "[37,   100] loss: 0.311\n",
            "[37,   150] loss: 0.310\n",
            "[38,    50] loss: 0.304\n",
            "[38,   100] loss: 0.301\n",
            "[38,   150] loss: 0.311\n",
            "[39,    50] loss: 0.299\n",
            "[39,   100] loss: 0.311\n",
            "[39,   150] loss: 0.300\n",
            "[40,    50] loss: 0.298\n",
            "[40,   100] loss: 0.306\n",
            "[40,   150] loss: 0.300\n",
            "[41,    50] loss: 0.299\n",
            "[41,   100] loss: 0.305\n",
            "[41,   150] loss: 0.296\n",
            "[42,    50] loss: 0.296\n",
            "[42,   100] loss: 0.279\n",
            "[42,   150] loss: 0.303\n",
            "[43,    50] loss: 0.290\n",
            "[43,   100] loss: 0.286\n",
            "[43,   150] loss: 0.291\n",
            "[44,    50] loss: 0.309\n",
            "[44,   100] loss: 0.293\n",
            "[44,   150] loss: 0.287\n",
            "[45,    50] loss: 0.293\n",
            "[45,   100] loss: 0.289\n",
            "[45,   150] loss: 0.278\n",
            "[46,    50] loss: 0.294\n",
            "[46,   100] loss: 0.279\n",
            "[46,   150] loss: 0.279\n",
            "[47,    50] loss: 0.264\n",
            "[47,   100] loss: 0.278\n",
            "[47,   150] loss: 0.269\n",
            "[48,    50] loss: 0.273\n",
            "[48,   100] loss: 0.269\n",
            "[48,   150] loss: 0.259\n",
            "[49,    50] loss: 0.253\n",
            "[49,   100] loss: 0.257\n",
            "[49,   150] loss: 0.239\n",
            "[50,    50] loss: 0.247\n",
            "[50,   100] loss: 0.227\n",
            "[50,   150] loss: 0.201\n",
            "Finished Training\n"
          ]
        }
      ],
      "source": [
        "def set_random_seed(seed):\n",
        "     torch.manual_seed(seed)\n",
        "     torch.cuda.manual_seed_all(seed)\n",
        "     np.random.seed(seed)\n",
        "     random.seed(seed)\n",
        "     torch.backends.cudnn.deterministic = True\n",
        "set_random_seed(0)\n",
        "\n",
        "for epoch in range(50):  # loop over the dataset multiple times\n",
        "\n",
        "    running_loss = 0.0\n",
        "    for i, data in enumerate(trainloader, 0):\n",
        "        # get the inputs; data is a list of [inputs, labels]\n",
        "        inputs, labels = data\n",
        "        inputs = inputs.cuda()\n",
        "        labels = labels.cuda()\n",
        "\n",
        "        # zero the parameter gradients\n",
        "        optimizer.zero_grad()\n",
        "\n",
        "        # forward + backward + optimize\n",
        "        outputs = pretrainNet(inputs)\n",
        "        loss = criterion(outputs, labels)\n",
        "        loss.backward()\n",
        "        optimizer.step()\n",
        "\n",
        "        # print statistics\n",
        "        running_loss += loss.item()\n",
        "        if i % 50 == 49:    # print every 500 mini-batches\n",
        "            print('[%d, %5d] loss: %.3f' %\n",
        "                  (epoch + 1, i + 1, running_loss / 50))\n",
        "            running_loss = 0.0\n",
        "\n",
        "print('Finished Training')"
      ]
    },
    {
      "cell_type": "code",
      "execution_count": null,
      "metadata": {
        "colab": {
          "base_uri": "https://localhost:8080/"
        },
        "id": "XkjGV9GGyeRe",
        "outputId": "71f14174-5ef0-410b-c605-6e910238d1ec"
      },
      "outputs": [
        {
          "name": "stdout",
          "output_type": "stream",
          "text": [
            "Accuracy of the network on the 10000 test images: 61 %\n"
          ]
        }
      ],
      "source": [
        "\n",
        "correct = 0\n",
        "total = 0\n",
        "with torch.no_grad():\n",
        "    for data in testloader:\n",
        "        images, labels = data\n",
        "        images = images.cuda()\n",
        "        labels = labels.cuda()\n",
        "        outputs = pretrainNet(images)\n",
        "        _, predicted = torch.max(outputs.data, 1)\n",
        "        total += labels.size(0)\n",
        "        correct += (predicted == labels).sum().item()\n",
        "\n",
        "print('Accuracy of the network on the 10000 test images: %d %%' % (\n",
        "    100 * correct / total))"
      ]
    },
    {
      "cell_type": "code",
      "execution_count": null,
      "metadata": {
        "id": "OsLfWW8E44dv"
      },
      "outputs": [],
      "source": [
        "# PATH = './cifar100_net.pth'\n",
        "# torch.save(pretrainNet.state_dict(), PATH)"
      ]
    },
    {
      "cell_type": "markdown",
      "metadata": {
        "id": "nvXMlnZg9uNp"
      },
      "source": [
        "## Problem 1: Training with Pre-trained Features (40 points)\n",
        "---\n",
        "You will load a pretrained model and get pretrained features of the training images with this mode. Then you need to create your simple Neural Network, implement loss function, train and evaluate on Cifar-10. \n",
        "\n",
        "**In order to get full credits, your test accuracy should be higher than acc_ta-5%, where acc_ta is TA's implementation, shown in the block's output.**\n",
        "\n",
        "You should keep training logs as they are in the block's output.\n",
        "\n",
        "Load pretrained CNN model."
      ]
    },
    {
      "cell_type": "code",
      "execution_count": 5,
      "metadata": {
        "id": "1JFagkxnTs_o"
      },
      "outputs": [],
      "source": [
        "## This following two blocks define the pretrained CNN network architecture\n",
        "\n",
        "def conv3x3(in_channels, out_channels, stride=1):\n",
        "    \"\"\"3x3 kernel size with padding convolutional layer in ResNet BasicBlock.\"\"\"\n",
        "    return nn.Conv2d(\n",
        "        in_channels=in_channels,\n",
        "        out_channels=out_channels,\n",
        "        kernel_size=3,\n",
        "        stride=stride,\n",
        "        padding=1,\n",
        "        bias=False)\n",
        "\n",
        "\n",
        "class BasicBlock(nn.Module):\n",
        "    \"\"\"Basic Block of ReseNet.\"\"\"\n",
        "\n",
        "    def __init__(self, in_channels, out_channels, stride=1, downsample=None):\n",
        "        \"\"\"Basic Block of ReseNet Builder.\"\"\"\n",
        "        super(BasicBlock, self).__init__()\n",
        "\n",
        "        # First conv3x3 layer\n",
        "        self.conv1 = conv3x3(in_channels, out_channels, stride)\n",
        "\n",
        "        #  Batch Normalization\n",
        "        self.bn1 = nn.BatchNorm2d(num_features=out_channels)\n",
        "\n",
        "        # ReLU Activation Function\n",
        "        self.relu = nn.ReLU(inplace=True)\n",
        "\n",
        "        # Second conv3x3 layer\n",
        "        self.conv2 = conv3x3(out_channels, out_channels)\n",
        "\n",
        "        #  Batch Normalization\n",
        "        self.bn2 = nn.BatchNorm2d(num_features=out_channels)\n",
        "\n",
        "        # downsample for `residual`\n",
        "        self.downsample = downsample\n",
        "        self.stride = stride\n",
        "\n",
        "    def forward(self, x):\n",
        "        \"\"\"Forward Pass of Basic Block.\"\"\"\n",
        "        residual = x\n",
        "\n",
        "        out = self.conv1(x)\n",
        "        out = self.bn1(out)\n",
        "        out = self.relu(out)\n",
        "        out = self.conv2(out)\n",
        "        out = self.bn2(out)\n",
        "\n",
        "        if self.downsample is not None:\n",
        "            residual = self.downsample(x)\n",
        "\n",
        "        out += residual\n",
        "        return out"
      ]
    },
    {
      "cell_type": "code",
      "execution_count": 6,
      "metadata": {
        "colab": {
          "base_uri": "https://localhost:8080/"
        },
        "id": "zUndSns99-6k",
        "outputId": "0d6411f4-fbda-40de-bbfa-e71ee8fe6af1"
      },
      "outputs": [
        {
          "data": {
            "text/plain": [
              "<All keys matched successfully>"
            ]
          },
          "execution_count": 6,
          "metadata": {
            "tags": []
          },
          "output_type": "execute_result"
        }
      ],
      "source": [
        "class ResNet(nn.Module):\n",
        "    \"\"\"Residual Neural Network.\"\"\"\n",
        "\n",
        "    def __init__(self, num_classes=100):\n",
        "        block = BasicBlock\n",
        "        duplicates = [2,4,4,2]\n",
        "\n",
        "        \"\"\"Residual Neural Network Builder.\"\"\"\n",
        "        super(ResNet, self).__init__()\n",
        "\n",
        "        self.in_channels = 32\n",
        "        self.conv1 = conv3x3(in_channels=3, out_channels=32)\n",
        "        self.bn = nn.BatchNorm2d(num_features=32)\n",
        "        self.relu = nn.ReLU(inplace=True)\n",
        "        self.dropout = nn.Dropout2d(p=0.02)\n",
        "\n",
        "        # block of Basic Blocks\n",
        "        self.conv2_x = self._make_block(block, duplicates[0], out_channels=32)\n",
        "        self.conv3_x = self._make_block(block, duplicates[1], out_channels=64, stride=2)\n",
        "        self.conv4_x = self._make_block(block, duplicates[2], out_channels=128, stride=2)\n",
        "        self.conv5_x = self._make_block(block, duplicates[3], out_channels=256, stride=2)\n",
        "\n",
        "        self.maxpool = nn.MaxPool2d(kernel_size=4, stride=1)\n",
        "        self.fc_layer = nn.Linear(256, num_classes)\n",
        "\n",
        "        # initialize weights\n",
        "        # self.apply(initialize_weights)\n",
        "        for m in self.modules():\n",
        "            if isinstance(m, nn.Conv2d):\n",
        "                nn.init.kaiming_normal_(m.weight.data, mode='fan_out')\n",
        "            elif isinstance(m, nn.BatchNorm2d):\n",
        "                m.weight.data.fill_(1)\n",
        "                m.bias.data.zero_()\n",
        "            elif isinstance(m, nn.Linear):\n",
        "                m.bias.data.zero_()\n",
        "\n",
        "    def _make_block(self, block, duplicates, out_channels, stride=1):\n",
        "        \"\"\"\n",
        "        Create Block in ResNet.\n",
        "\n",
        "        Args:\n",
        "            block: BasicBlock\n",
        "            duplicates: number of BasicBlock\n",
        "            out_channels: out channels of the block\n",
        "\n",
        "        Returns:\n",
        "            nn.Sequential(*layers)\n",
        "        \"\"\"\n",
        "        downsample = None\n",
        "        if (stride != 1) or (self.in_channels != out_channels):\n",
        "            downsample = nn.Sequential(\n",
        "                conv3x3(self.in_channels, out_channels, stride=stride),\n",
        "                nn.BatchNorm2d(num_features=out_channels)\n",
        "            )\n",
        "\n",
        "        layers = []\n",
        "        layers.append(\n",
        "            block(self.in_channels, out_channels, stride, downsample))\n",
        "        self.in_channels = out_channels\n",
        "        for _ in range(1, duplicates):\n",
        "            layers.append(block(out_channels, out_channels))\n",
        "\n",
        "        return nn.Sequential(*layers)\n",
        "\n",
        "\n",
        "    def pretrained_feature(self, x):\n",
        "        \"\"\"Forward pass of ResNet.\"\"\"\n",
        "        out = self.conv1(x)\n",
        "        out = self.bn(out)\n",
        "        out = self.relu(out)\n",
        "        out = self.dropout(out)\n",
        "\n",
        "        # Stacked Basic Blocks\n",
        "        out = self.conv2_x(out)\n",
        "        out = self.conv3_x(out)\n",
        "        out = self.conv4_x(out)\n",
        "        out = self.conv5_x(out)\n",
        "\n",
        "        out = self.maxpool(out)\n",
        "        out = out.view(out.size(0), -1)\n",
        "        return out.detach()\n",
        "    \n",
        "    def forward(self, x):\n",
        "        \"\"\"Forward pass of ResNet.\"\"\"\n",
        "        out = self.conv1(x)\n",
        "        out = self.bn(out)\n",
        "        out = self.relu(out)\n",
        "        out = self.dropout(out)\n",
        "\n",
        "        # Stacked Basic Blocks\n",
        "        out = self.conv2_x(out)\n",
        "        out = self.conv3_x(out)\n",
        "        out = self.conv4_x(out)\n",
        "        out = self.conv5_x(out)\n",
        "\n",
        "        out = self.maxpool(out)\n",
        "        out = out.view(out.size(0), -1)\n",
        "        out = self.fc_layer(out)\n",
        "\n",
        "        return out\n",
        "\n",
        "pretrainNet = ResNet().cuda()\n",
        "\n",
        "# make sure upload model file to current directory             \n",
        "pretrainNet.load_state_dict(torch.load('./cifar100_net.pth'))"
      ]
    },
    {
      "cell_type": "markdown",
      "metadata": {
        "id": "v7Jdac3aCx7N"
      },
      "source": [
        "Load and show Cifar-10 sample images"
      ]
    },
    {
      "cell_type": "code",
      "execution_count": 7,
      "metadata": {
        "colab": {
          "base_uri": "https://localhost:8080/"
        },
        "id": "SIyZclH1ucHD",
        "outputId": "6b50d283-badf-4244-ea0e-c5cfc621574a"
      },
      "outputs": [
        {
          "name": "stdout",
          "output_type": "stream",
          "text": [
            "Files already downloaded and verified\n",
            "Files already downloaded and verified\n"
          ]
        }
      ],
      "source": [
        "transform = transforms.Compose([\n",
        "    transforms.ToTensor(),\n",
        "    transforms.Normalize(mean=[0.507, 0.487, 0.441], std=[0.267, 0.256, 0.276])\n",
        "])\n",
        "\n",
        "trainset = torchvision.datasets.CIFAR10(root='./data', train=True,\n",
        "          download=True, transform=transform)\n",
        "trainloader = torch.utils.data.DataLoader(trainset, batch_size=256,\n",
        "          shuffle=True, num_workers=2)\n",
        "\n",
        "testset = torchvision.datasets.CIFAR10(root='./data', train=False,\n",
        "          download=True, transform=transform)\n",
        "testloader = torch.utils.data.DataLoader(testset, batch_size=256,\n",
        "          shuffle=False, num_workers=2)\n",
        "\n",
        "classes = ('plane', 'car', 'bird', 'cat',\n",
        "           'deer', 'dog', 'frog', 'horse', 'ship', 'truck')"
      ]
    },
    {
      "cell_type": "code",
      "execution_count": 8,
      "metadata": {
        "colab": {
          "base_uri": "https://localhost:8080/",
          "height": 237
        },
        "id": "Jdd5AL_zuygj",
        "outputId": "b3e7dc3b-fdd8-4fd8-f015-a4c556de1d8f"
      },
      "outputs": [
        {
          "name": "stderr",
          "output_type": "stream",
          "text": [
            "Clipping input data to the valid range for imshow with RGB data ([0..1] for floats or [0..255] for integers).\n"
          ]
        },
        {
          "data": {
            "image/png": "[encoded data removed]",
            "text/plain": [
              "<Figure size 432x288 with 1 Axes>"
            ]
          },
          "metadata": {
            "needs_background": "light",
            "tags": []
          },
          "output_type": "display_data"
        }
      ],
      "source": [
        "import matplotlib.pyplot as plt\n",
        "import numpy as np\n",
        "\n",
        "# functions to show an image\n",
        "\n",
        "\n",
        "def imshow(img):\n",
        "    img = img / 2 + 0.5     # unnormalize\n",
        "    npimg = img.numpy()\n",
        "    plt.imshow(np.transpose(npimg, (1, 2, 0)))\n",
        "    plt.show()\n",
        "\n",
        "\n",
        "# get some random training images\n",
        "dataiter = iter(trainloader)\n",
        "images, labels = dataiter.next()\n",
        "\n",
        "# show images\n",
        "imshow(torchvision.utils.make_grid(images[:32]))\n",
        "\n"
      ]
    },
    {
      "cell_type": "markdown",
      "metadata": {
        "id": "FOeKHOf_7v-t"
      },
      "source": [
        "First, create your simple Neural Network consisting of a couple of feedforward layers (e.g. torch.nn.Linear) (**no convolutional layers required**). This model will take pretrained features as inputs. (20 points)"
      ]
    },
    {
      "cell_type": "code",
      "execution_count": 9,
      "metadata": {
        "id": "uVjnD0LlBGiN"
      },
      "outputs": [],
      "source": [
        "import torch.nn as nn\n",
        "import torch.nn.functional as F\n",
        "\n",
        "\n",
        "class SimpleNet(nn.Module):\n",
        "    def __init__(self):\n",
        "        ##-------------TODO----------------#\n",
        "        super(SimpleNet, self).__init__()\n",
        "\n",
        "\n",
        "        \n",
        "        ##-------------/TODO----------------#\n",
        "\n",
        "    def forward(self, x): \n",
        "        ##-------------TODO----------------#  \n",
        "\n",
        "\n",
        "\n",
        "        ##-------------/TODO----------------#\n",
        "\n",
        "simpleNet = SimpleNet().cuda()"
      ]
    },
    {
      "cell_type": "markdown",
      "metadata": {
        "id": "RWRPJTmf8MPN"
      },
      "source": [
        "Then, implement the [cross entropy loss](https://pytorch.org/docs/stable/generated/torch.nn.CrossEntropyLoss.html) by yourself. You are not permitted to use torch.nn.CrossEntropyLoss directly, but you can use other non-loss pytorch methods like torch.nn.LogSoftmax, etc. (20 points)\n",
        "\n",
        "For more information about loss functions, refer to https://cs231n.github.io/neural-networks-2/#losses . Basically, loss functions measures the compatibility between a prediction and the ground truth label. Cross entropy loss is the most widely used loss function for classification tasks. Here are some materials on cross entropy loss:\n",
        "\n",
        "https://towardsdatascience.com/cross-entropy-loss-function-f38c4ec8643e\n",
        "\n",
        "https://medium.com/data-science-bootcamp/understand-cross-entropy-loss-in-minutes-9fb263caee9a\n",
        "\n",
        "https://datascience.stackexchange.com/questions/20296/cross-entropy-loss-explanation"
      ]
    },
    {
      "cell_type": "code",
      "execution_count": 10,
      "metadata": {
        "id": "7louJ0vqBpid"
      },
      "outputs": [],
      "source": [
        "import torch.optim as optim\n",
        "\n",
        "class myCrossEntropyLoss(nn.Module):\n",
        "    def __init__(self):\n",
        "        ##-------------TODO----------------# \n",
        "        super(myCrossEntropyLoss, self).__init__()\n",
        "\n",
        "\n",
        "        ##-------------/TODO----------------# \n",
        "    \n",
        "    def forward(self, outputs, labels):\n",
        "        ##-------------TODO----------------# \n",
        "\n",
        "\n",
        "        ##-------------/TODO----------------# \n",
        "\n",
        "# define loss function\n",
        "criterion = myCrossEntropyLoss()\n",
        "\n",
        "# define optimizer. Pay attention to the arguments\n",
        "optimizer = optim.Adam(simpleNet.parameters(), lr=0.0005)"
      ]
    },
    {
      "cell_type": "markdown",
      "metadata": {
        "id": "Q6jN7_Gj9-o5"
      },
      "source": [
        "Train the model on training images."
      ]
    },
    {
      "cell_type": "code",
      "execution_count": 11,
      "metadata": {
        "colab": {
          "base_uri": "https://localhost:8080/"
        },
        "id": "BNFnntTwDihV",
        "outputId": "64ea0259-979e-46c1-823f-0d35719ec1ff"
      },
      "outputs": [
        {
          "name": "stdout",
          "output_type": "stream",
          "text": [
            "[1,    50] loss: 2.188\n",
            "[1,   100] loss: 1.942\n",
            "[1,   150] loss: 1.710\n",
            "[2,    50] loss: 1.397\n",
            "[2,   100] loss: 1.315\n",
            "[2,   150] loss: 1.274\n",
            "[3,    50] loss: 1.174\n",
            "[3,   100] loss: 1.142\n",
            "[3,   150] loss: 1.090\n",
            "[4,    50] loss: 1.025\n",
            "[4,   100] loss: 1.008\n",
            "[4,   150] loss: 0.999\n",
            "[5,    50] loss: 0.969\n",
            "[5,   100] loss: 0.956\n",
            "[5,   150] loss: 0.943\n",
            "[6,    50] loss: 0.903\n",
            "[6,   100] loss: 0.896\n",
            "[6,   150] loss: 0.907\n",
            "[7,    50] loss: 0.871\n",
            "[7,   100] loss: 0.894\n",
            "[7,   150] loss: 0.862\n",
            "[8,    50] loss: 0.861\n",
            "[8,   100] loss: 0.861\n",
            "[8,   150] loss: 0.842\n",
            "[9,    50] loss: 0.844\n",
            "[9,   100] loss: 0.830\n",
            "[9,   150] loss: 0.837\n",
            "[10,    50] loss: 0.818\n",
            "[10,   100] loss: 0.830\n",
            "[10,   150] loss: 0.826\n",
            "[11,    50] loss: 0.808\n",
            "[11,   100] loss: 0.816\n",
            "[11,   150] loss: 0.821\n",
            "[12,    50] loss: 0.810\n",
            "[12,   100] loss: 0.806\n",
            "[12,   150] loss: 0.818\n",
            "[13,    50] loss: 0.805\n",
            "[13,   100] loss: 0.802\n",
            "[13,   150] loss: 0.804\n",
            "[14,    50] loss: 0.795\n",
            "[14,   100] loss: 0.812\n",
            "[14,   150] loss: 0.786\n",
            "[15,    50] loss: 0.795\n",
            "[15,   100] loss: 0.798\n",
            "[15,   150] loss: 0.791\n",
            "[16,    50] loss: 0.804\n",
            "[16,   100] loss: 0.779\n",
            "[16,   150] loss: 0.789\n",
            "[17,    50] loss: 0.798\n",
            "[17,   100] loss: 0.784\n",
            "[17,   150] loss: 0.775\n",
            "[18,    50] loss: 0.791\n",
            "[18,   100] loss: 0.782\n",
            "[18,   150] loss: 0.780\n",
            "[19,    50] loss: 0.778\n",
            "[19,   100] loss: 0.785\n",
            "[19,   150] loss: 0.786\n",
            "[20,    50] loss: 0.782\n",
            "[20,   100] loss: 0.770\n",
            "[20,   150] loss: 0.783\n",
            "Finished Training\n"
          ]
        }
      ],
      "source": [
        "def set_random_seed(seed):\n",
        "     torch.manual_seed(seed)\n",
        "     torch.cuda.manual_seed_all(seed)\n",
        "     np.random.seed(seed)\n",
        "     random.seed(seed)\n",
        "     torch.backends.cudnn.deterministic = True\n",
        "set_random_seed(0)\n",
        "\n",
        "for epoch in range(20):  # loop over the dataset multiple times\n",
        "\n",
        "    running_loss = 0.0\n",
        "    for i, data in enumerate(trainloader, 0):\n",
        "        # get the inputs; data is a list of [inputs, labels]\n",
        "        inputs, labels = data\n",
        "        inputs = inputs.cuda()\n",
        "        labels = labels.cuda()\n",
        "\n",
        "        # get pretrained features\n",
        "        inputs = pretrainNet.pretrained_feature(inputs)\n",
        "\n",
        "        # zero the parameter gradients\n",
        "        optimizer.zero_grad()\n",
        "\n",
        "        # forward + backward + optimize\n",
        "        outputs = simpleNet(inputs)\n",
        "        loss = criterion(outputs, labels)\n",
        "        loss.backward()\n",
        "        optimizer.step()\n",
        "\n",
        "        # print statistics\n",
        "        running_loss += loss.item()\n",
        "        if i % 50 == 49:    # print every 50 mini-batches\n",
        "            print('[%d, %5d] loss: %.3f' %\n",
        "                  (epoch + 1, i + 1, running_loss / 50))\n",
        "            running_loss = 0.0\n",
        "\n",
        "print('Finished Training')"
      ]
    },
    {
      "cell_type": "markdown",
      "metadata": {
        "id": "bCHRGURX95BA"
      },
      "source": [
        "Now, evaluate on the test images."
      ]
    },
    {
      "cell_type": "code",
      "execution_count": 12,
      "metadata": {
        "colab": {
          "base_uri": "https://localhost:8080/"
        },
        "id": "fmAtvqbbDyrI",
        "outputId": "c703e1fe-0ab1-4ddd-b541-4c8dcaaeaba9"
      },
      "outputs": [
        {
          "name": "stdout",
          "output_type": "stream",
          "text": [
            "Accuracy of the network on the 10000 test images: 70 %\n"
          ]
        }
      ],
      "source": [
        "correct = 0\n",
        "total = 0\n",
        "with torch.no_grad():\n",
        "    for data in testloader:\n",
        "        images, labels = data\n",
        "        images = images.cuda()\n",
        "        labels = labels.cuda()\n",
        "        images = pretrainNet.pretrained_feature(images)\n",
        "        outputs = simpleNet(images)\n",
        "        _, predicted = torch.max(outputs.data, 1)\n",
        "        total += labels.size(0)\n",
        "        correct += (predicted == labels).sum().item()\n",
        "\n",
        "print('Accuracy of the network on the 10000 test images: %d %%' % (\n",
        "    100 * correct / total))"
      ]
    },
    {
      "cell_type": "markdown",
      "metadata": {
        "id": "z9_MgzRsCTQE"
      },
      "source": [
        "## Problem 2: Training from scratch (30 points)\n",
        "---\n",
        "Now create your CNN model from scratch. This model will take raw images as input. You can refer to some representative CNN model architecture like [AlexNet](https://pytorch.org/hub/pytorch_vision_alexnet/), [VGGNet](https://pytorch.org/hub/pytorch_vision_vgg/), etc. You are **Not** required to implement residual connections like [ResNet](https://pytorch.org/hub/pytorch_vision_resnet/). You are free to use layers like torch.nn.Conv2d, torch.nn.MaxPool2d, torch.nn.BatchNorm2d, torch.nn.Dropout, etc. \n",
        "\n",
        "You can use torch.nn.init to initialize the parameters. See https://pytorch.org/docs/stable/nn.html for api descriptions.\n",
        "\n",
        "To make it simpler, we provided an examplar network. You could improve from this. We did not initialize weights explictly, but you are **requried** to do that.\n",
        "\n",
        "**In order to get full credits, your test accuracy should be higher than acc_ta, where acc_ta is TA's implementation, shown in the block's output.**\n",
        "\n",
        "You should keep training logs as they are in the block's output."
      ]
    },
    {
      "cell_type": "code",
      "execution_count": null,
      "metadata": {
        "id": "6y5Pv8nKvNW3"
      },
      "outputs": [],
      "source": [
        "import torch.nn as nn\n",
        "import torch.nn.functional as F\n",
        "\n",
        "class ExamplarNet(nn.Module):\n",
        "    def __init__(self):\n",
        "        super(Net, self).__init__()\n",
        "        self.conv1 = nn.Conv2d(3, 6, 5)\n",
        "        self.pool = nn.MaxPool2d(2, 2)\n",
        "        self.conv2 = nn.Conv2d(6, 16, 5)\n",
        "        self.fc1 = nn.Linear(16 * 5 * 5, 120)\n",
        "        self.fc2 = nn.Linear(120, 84)\n",
        "        self.fc3 = nn.Linear(84, 10)\n",
        "\n",
        "    def forward(self, x):\n",
        "        x = self.pool(F.relu(self.conv1(x)))\n",
        "        x = self.pool(F.relu(self.conv2(x)))\n",
        "        x = x.view(-1, 16 * 5 * 5)\n",
        "        x = F.relu(self.fc1(x))\n",
        "        x = F.relu(self.fc2(x))\n",
        "        x = self.fc3(x)\n",
        "        return x\n",
        "\n",
        "\n",
        "class Net(nn.Module):\n",
        "    ##-------------TODO----------------# \n",
        "    def __init__(self):\n",
        "        # build your network and initialize your weights by torch.nn.init\n",
        "        # refer to https://stackoverflow.com/questions/49433936/how-to-initialize-weights-in-pytorch\n",
        "\n",
        "\n",
        "    \n",
        "    def forward(self, outputs, labels):\n",
        "\n",
        "\n",
        "\n",
        "\n",
        "\n",
        "    ##-------------/TODO----------------# \n",
        "\n",
        "net = Net().cuda()"
      ]
    },
    {
      "cell_type": "code",
      "execution_count": null,
      "metadata": {
        "id": "4ZWZY8OfvQLp"
      },
      "outputs": [],
      "source": [
        "import torch.optim as optim\n",
        "\n",
        "# define loss and optimizer\n",
        "# refer to the previous problem. Make sure you use correct input parameters, and modify them (e.g. lr) as you need.\n",
        "##-------------TODO----------------# \n",
        "criterion = \n",
        "optimizer = \n",
        "##-------------/TODO----------------# "
      ]
    },
    {
      "cell_type": "code",
      "execution_count": null,
      "metadata": {
        "colab": {
          "base_uri": "https://localhost:8080/"
        },
        "id": "5pwD2hsfvUM2",
        "outputId": "e0f86f0d-55ce-4af3-f60a-033743f23338"
      },
      "outputs": [
        {
          "name": "stdout",
          "output_type": "stream",
          "text": [
            "[1,    50] loss: 2.132\n",
            "[1,   100] loss: 1.839\n",
            "[1,   150] loss: 1.647\n",
            "[2,    50] loss: 1.512\n",
            "[2,   100] loss: 1.492\n",
            "[2,   150] loss: 1.486\n",
            "[3,    50] loss: 1.419\n",
            "[3,   100] loss: 1.371\n",
            "[3,   150] loss: 1.371\n",
            "[4,    50] loss: 1.319\n",
            "[4,   100] loss: 1.291\n",
            "[4,   150] loss: 1.289\n",
            "[5,    50] loss: 1.238\n",
            "[5,   100] loss: 1.242\n",
            "[5,   150] loss: 1.224\n",
            "[6,    50] loss: 1.199\n",
            "[6,   100] loss: 1.166\n",
            "[6,   150] loss: 1.185\n",
            "[7,    50] loss: 1.133\n",
            "[7,   100] loss: 1.157\n",
            "[7,   150] loss: 1.140\n",
            "[8,    50] loss: 1.108\n",
            "[8,   100] loss: 1.108\n",
            "[8,   150] loss: 1.096\n",
            "[9,    50] loss: 1.076\n",
            "[9,   100] loss: 1.055\n",
            "[9,   150] loss: 1.091\n",
            "[10,    50] loss: 1.040\n",
            "[10,   100] loss: 1.038\n",
            "[10,   150] loss: 1.042\n",
            "[11,    50] loss: 1.007\n",
            "[11,   100] loss: 1.016\n",
            "[11,   150] loss: 1.019\n",
            "[12,    50] loss: 0.972\n",
            "[12,   100] loss: 0.999\n",
            "[12,   150] loss: 1.007\n",
            "[13,    50] loss: 0.969\n",
            "[13,   100] loss: 0.961\n",
            "[13,   150] loss: 0.949\n",
            "[14,    50] loss: 0.921\n",
            "[14,   100] loss: 0.952\n",
            "[14,   150] loss: 0.928\n",
            "[15,    50] loss: 0.898\n",
            "[15,   100] loss: 0.920\n",
            "[15,   150] loss: 0.914\n",
            "[16,    50] loss: 0.896\n",
            "[16,   100] loss: 0.887\n",
            "[16,   150] loss: 0.909\n",
            "[17,    50] loss: 0.864\n",
            "[17,   100] loss: 0.877\n",
            "[17,   150] loss: 0.879\n",
            "[18,    50] loss: 0.847\n",
            "[18,   100] loss: 0.834\n",
            "[18,   150] loss: 0.846\n",
            "[19,    50] loss: 0.825\n",
            "[19,   100] loss: 0.831\n",
            "[19,   150] loss: 0.845\n",
            "[20,    50] loss: 0.810\n",
            "[20,   100] loss: 0.798\n",
            "[20,   150] loss: 0.820\n",
            "Finished Training\n"
          ]
        }
      ],
      "source": [
        "def set_random_seed(seed):\n",
        "     torch.manual_seed(seed)\n",
        "     torch.cuda.manual_seed_all(seed)\n",
        "     np.random.seed(seed)\n",
        "     random.seed(seed)\n",
        "     torch.backends.cudnn.deterministic = True\n",
        "set_random_seed(0)\n",
        "\n",
        "for epoch in range(20):  # loop over the dataset multiple times\n",
        "\n",
        "    running_loss = 0.0\n",
        "    for i, data in enumerate(trainloader, 0):\n",
        "        # get the inputs; data is a list of [inputs, labels]\n",
        "        inputs, labels = data\n",
        "        inputs = inputs.cuda()\n",
        "        labels = labels.cuda()\n",
        "\n",
        "        # zero the parameter gradients\n",
        "        optimizer.zero_grad()\n",
        "\n",
        "        # forward + backward + optimize\n",
        "        outputs = net(inputs)\n",
        "        loss = criterion(outputs, labels)\n",
        "        loss.backward()\n",
        "        optimizer.step()\n",
        "\n",
        "        # print statistics\n",
        "        running_loss += loss.item()\n",
        "        if i % 50 == 49:    # print every 2000 mini-batches\n",
        "            print('[%d, %5d] loss: %.3f' %\n",
        "                  (epoch + 1, i + 1, running_loss / 50))\n",
        "            running_loss = 0.0\n",
        "\n",
        "print('Finished Training')"
      ]
    },
    {
      "cell_type": "code",
      "execution_count": null,
      "metadata": {
        "colab": {
          "base_uri": "https://localhost:8080/"
        },
        "id": "4z5zzHvrvkPl",
        "outputId": "99ed848e-9b55-4059-ea8f-baf60530e9c3"
      },
      "outputs": [
        {
          "name": "stdout",
          "output_type": "stream",
          "text": [
            "Accuracy of the network on the 10000 test images: 56 %\n"
          ]
        }
      ],
      "source": [
        "correct = 0\n",
        "total = 0\n",
        "with torch.no_grad():\n",
        "    for data in testloader:\n",
        "        images, labels = data\n",
        "        images = images.cuda()\n",
        "        labels = labels.cuda()\n",
        "        outputs = net(images)\n",
        "        _, predicted = torch.max(outputs.data, 1)\n",
        "        total += labels.size(0)\n",
        "        correct += (predicted == labels).sum().item()\n",
        "\n",
        "print('Accuracy of the network on the 10000 test images: %d %%' % (\n",
        "    100 * correct / total))"
      ]
    },
    {
      "cell_type": "markdown",
      "metadata": {
        "collapsed": true,
        "id": "nBHKIxzAYYM2"
      },
      "source": [
        "## Problem 3: Fine Tuning a Pre-Trained Deep Network (30 points)\n",
        "Our convolutional network to this point isn't \"deep\". Fortunately, the representations learned by deep convolutional networks generalize surprisingly well to other recognition tasks. The pretrained model is obtained on Cifar-100 for 100 classes classification, and you will adapt it to Cifar-10 for 10 classes classification.\n",
        "\n",
        "**In order to get full credits, your test accuracy should be higher than acc_ta-5%, where acc_ta is TA's implementation, shown in the block's output.**\n",
        "\n",
        "You should keep training logs as they are in the block's output.      \n",
        "       \n",
        "**Hints**:\n",
        "- For fine-tuning pretrained network using PyTorch, please read this [tutorial](http://pytorch.org/tutorials/beginner/transfer_learning_tutorial.html)."
      ]
    },
    {
      "cell_type": "code",
      "execution_count": null,
      "metadata": {
        "id": "LzA7QGYEEY-X"
      },
      "outputs": [],
      "source": [
        "import torch.nn as nn\n",
        "import torch.nn.functional as F\n",
        "\n",
        "\n",
        "class FineTuneNet(nn.Module):\n",
        "    # hint: initialize the pretrained network in __init__ and replace the extra layers\n",
        "    def __init__(self):\n",
        "        ##-------------TODO----------------# \n",
        "\n",
        "\n",
        "\n",
        "        ##-------------/TODO----------------# \n",
        "\n",
        "    def forward(self, x):\n",
        "        ##-------------TODO----------------# \n",
        "\n",
        "\n",
        "        \n",
        "        ##-------------/TODO----------------# \n",
        "\n",
        "fineTuneNet = FineTuneNet().cuda()\n",
        "\n",
        "# load the pretrained networks from the pre-trained model cifar100_net.pth\n",
        "# you can also do this in the __init__ above\n",
        "# this follow blank is not compulsory \n",
        "##-------------TODO----------------# \n",
        "\n",
        "##-------------/TODO----------------# "
      ]
    },
    {
      "cell_type": "code",
      "execution_count": null,
      "metadata": {
        "id": "oQB0a2P5JyWi"
      },
      "outputs": [],
      "source": [
        "import torch.optim as optim\n",
        "\n",
        "# define loss and optimizer\n",
        "##-------------TODO----------------# \n",
        "criterion = \n",
        "optimizer = \n",
        "##-------------/TODO----------------# "
      ]
    },
    {
      "cell_type": "code",
      "execution_count": null,
      "metadata": {
        "colab": {
          "base_uri": "https://localhost:8080/"
        },
        "id": "85iOdslMJ56Z",
        "outputId": "b01d31d3-7552-4a5a-92a7-2899be88d889"
      },
      "outputs": [
        {
          "name": "stdout",
          "output_type": "stream",
          "text": [
            "[1,    50] loss: 0.960\n",
            "[1,   100] loss: 0.600\n",
            "[1,   150] loss: 0.546\n",
            "[2,    50] loss: 0.361\n",
            "[2,   100] loss: 0.362\n",
            "[2,   150] loss: 0.365\n",
            "[3,    50] loss: 0.244\n",
            "[3,   100] loss: 0.230\n",
            "[3,   150] loss: 0.250\n",
            "[4,    50] loss: 0.150\n",
            "[4,   100] loss: 0.147\n",
            "[4,   150] loss: 0.159\n",
            "[5,    50] loss: 0.095\n",
            "[5,   100] loss: 0.089\n",
            "[5,   150] loss: 0.104\n",
            "[6,    50] loss: 0.061\n",
            "[6,   100] loss: 0.049\n",
            "[6,   150] loss: 0.056\n",
            "[7,    50] loss: 0.042\n",
            "[7,   100] loss: 0.042\n",
            "[7,   150] loss: 0.041\n",
            "[8,    50] loss: 0.043\n",
            "[8,   100] loss: 0.037\n",
            "[8,   150] loss: 0.035\n",
            "[9,    50] loss: 0.030\n",
            "[9,   100] loss: 0.025\n",
            "[9,   150] loss: 0.026\n",
            "[10,    50] loss: 0.027\n",
            "[10,   100] loss: 0.024\n",
            "[10,   150] loss: 0.023\n",
            "[11,    50] loss: 0.036\n",
            "[11,   100] loss: 0.035\n",
            "[11,   150] loss: 0.038\n",
            "[12,    50] loss: 0.038\n",
            "[12,   100] loss: 0.043\n",
            "[12,   150] loss: 0.051\n",
            "[13,    50] loss: 0.048\n",
            "[13,   100] loss: 0.045\n",
            "[13,   150] loss: 0.054\n",
            "[14,    50] loss: 0.038\n",
            "[14,   100] loss: 0.032\n",
            "[14,   150] loss: 0.031\n",
            "[15,    50] loss: 0.029\n",
            "[15,   100] loss: 0.018\n",
            "[15,   150] loss: 0.015\n",
            "[16,    50] loss: 0.010\n",
            "[16,   100] loss: 0.012\n",
            "[16,   150] loss: 0.012\n",
            "[17,    50] loss: 0.012\n",
            "[17,   100] loss: 0.009\n",
            "[17,   150] loss: 0.007\n",
            "[18,    50] loss: 0.006\n",
            "[18,   100] loss: 0.003\n",
            "[18,   150] loss: 0.005\n",
            "[19,    50] loss: 0.012\n",
            "[19,   100] loss: 0.021\n",
            "[19,   150] loss: 0.051\n",
            "[20,    50] loss: 0.080\n",
            "[20,   100] loss: 0.068\n",
            "[20,   150] loss: 0.065\n",
            "Finished Training\n"
          ]
        }
      ],
      "source": [
        "def set_random_seed(seed):\n",
        "     torch.manual_seed(seed)\n",
        "     torch.cuda.manual_seed_all(seed)\n",
        "     np.random.seed(seed)\n",
        "     random.seed(seed)\n",
        "     torch.backends.cudnn.deterministic = True\n",
        "set_random_seed(0)\n",
        "\n",
        "for epoch in range(20):  # loop over the dataset multiple times\n",
        "\n",
        "    running_loss = 0.0\n",
        "    for i, data in enumerate(trainloader, 0):\n",
        "        # get the inputs; data is a list of [inputs, labels]\n",
        "        inputs, labels = data\n",
        "        inputs = inputs.cuda()\n",
        "        labels = labels.cuda()\n",
        "\n",
        "        # zero the parameter gradients\n",
        "        optimizer.zero_grad()\n",
        "\n",
        "        # forward + backward + optimize\n",
        "        outputs = fineTuneNet(inputs)\n",
        "        loss = criterion(outputs, labels)\n",
        "        loss.backward()\n",
        "        optimizer.step()\n",
        "\n",
        "        # print statistics\n",
        "        running_loss += loss.item()\n",
        "        if i % 50 == 49:    # print every 2000 mini-batches\n",
        "            print('[%d, %5d] loss: %.3f' %\n",
        "                  (epoch + 1, i + 1, running_loss / 50))\n",
        "            running_loss = 0.0\n",
        "\n",
        "print('Finished Training')"
      ]
    },
    {
      "cell_type": "code",
      "execution_count": null,
      "metadata": {
        "colab": {
          "base_uri": "https://localhost:8080/"
        },
        "id": "tVjFElQ-KCsb",
        "outputId": "1d76b315-184f-4a06-e19a-15d6d4a1658d"
      },
      "outputs": [
        {
          "name": "stdout",
          "output_type": "stream",
          "text": [
            "Accuracy of the network on the 10000 test images: 87 %\n"
          ]
        }
      ],
      "source": [
        "correct = 0\n",
        "total = 0\n",
        "with torch.no_grad():\n",
        "    for data in testloader:\n",
        "        images, labels = data\n",
        "        images = images.cuda()\n",
        "        labels = labels.cuda()\n",
        "        outputs = fineTuneNet(images)\n",
        "        _, predicted = torch.max(outputs.data, 1)\n",
        "        total += labels.size(0)\n",
        "        correct += (predicted == labels).sum().item()\n",
        "\n",
        "print('Accuracy of the network on the 10000 test images: %d %%' % (\n",
        "    100 * correct / total))"
      ]
    },
    {
      "cell_type": "markdown",
      "metadata": {
        "id": "5UGefIYpYYNF"
      },
      "source": [
        "## Submission guidelines\n",
        "---\n",
        "Extract the downloaded .zip file to a folder of your preference. The input and output paths are predefined and **DO NOT** change them, (we assume that 'Surname_Givenname_SBUID_hw4' is your working directory, and all the paths are relative to this directory).  The image read and write functions are already written for you. All you need to do is to fill in the blanks as indicated to generate proper outputs. **DO NOT** zip and upload the dataset on blackboard due to size limit.\n",
        "\n",
        "When submitting your .zip file through blackboard, please\n",
        "-- name your .zip file as **Surname_Givenname_SBUID_A*.zip**.\n",
        "\n",
        "This zip file should include:\n",
        "```\n",
        "Surname_Givenname_SBUID_A*\n",
        "        |---Surname_Givenname_SBUID_A*.ipynb\n",
        "        |---Surname_Givenname_SBUID_A*.pdf\n",
        "```\n",
        "\n",
        "For instance, student Yann LeCun should submit a zip file named \"LeCun_Yann_111134567_A4.zip\" for homework4 in this structure:\n",
        "```\n",
        "LeCun_Yann_111134567_A4\n",
        "        |---LeCun_Yann_111134567_A4.ipynb\n",
        "        |---LeCun_Yann_111134567_A4.pdf\n",
        "```\n",
        "\n",
        "The **Surname_Givenname_SBUID_A*.pdf** should include a **google shared link**. To generate the **google shared link**, first create a folder named **Surname_Givenname_SBUID_A*** in your Google Drive with your Stony Brook account. The structure of the files in the folder should be exactly the same as the one you downloaded. If you alter the folder structures, the grading of your homework will be significantly delayed and possibly penalized.\n",
        "\n",
        "Then right click this folder, click ***Get shareable link***, in the People textfield, enter two TA's emails: **tao.sun.1@stonybrook.edu*** and ***tianyi.zhao@stonybrook.edu@stonybrook.edu***. Make sure that TAs who have the link **can edit**, ***not just*** **can view**, and also **uncheck** the **Notify people** box.\n",
        "\n",
        "Colab has a good feature of version control, you should take advantage of this to save your work properly. However, the timestamp of the submission made in blackboard is the only one that we consider for grading. To be more specific, we will only grade the version of your code right before the timestamp of the submission made in blackboard. \n",
        "\n",
        "You are encouraged to post and answer questions on Piazza. Based on the amount of email that we have received in past years, there might be dealys in replying to personal emails. Please ask questions on Piazza and send emails only for personal issues.\n",
        "\n",
        "Be aware that your code will undergo plagiarism check both vertically and horizontally. Please do your own work.\n",
        "\n",
        "**Late submission penalty:** <br>\n",
        "Submissions between fourth and fifth day will be docked 20%. Submissions between fifth and sixth day will be docked 40%. However, you will have 4 days throughout the whole semester to submit late without penalty. Note that the grace period is calculated by days instead of hours. If you submit the homework one minute after the deadline, one late day will be counted. Likewise, if you submit one minute after the deadline, the penaly will be imposed if not using the grace period."
      ]
    },
    {
      "cell_type": "markdown",
      "metadata": {
        "id": "AYJOi8QYYYNG"
      },
      "source": [
        "<!--Write your report here in markdown or html-->\n"
      ]
    }
  ],
  "metadata": {
    "accelerator": "GPU",
    "anaconda-cloud": {},
    "colab": {
      "collapsed_sections": [
        "HnkJ-LmJyBod"
      ],
      "machine_shape": "hm",
      "name": "CSE352-21S-A4.ipynb",
      "provenance": []
    },
    "kernelspec": {
      "display_name": "Python 3",
      "name": "python3"
    },
    "language_info": {
      "codemirror_mode": {
        "name": "ipython",
        "version": 3
      },
      "file_extension": ".py",
      "mimetype": "text/x-python",
      "name": "python",
      "nbconvert_exporter": "python",
      "pygments_lexer": "ipython3",
      "version": "3.7.3"
    },
    "widgets": {
      "application/vnd.jupyter.widget-state+json": {
        "24c2f44c42864f939030e4a33573e919": {
          "model_module": "@jupyter-widgets/base",
          "model_name": "LayoutModel",
          "state": {
            "_model_module": "@jupyter-widgets/base",
            "_model_module_version": "1.2.0",
            "_model_name": "LayoutModel",
            "_view_count": null,
            "_view_module": "@jupyter-widgets/base",
            "_view_module_version": "1.2.0",
            "_view_name": "LayoutView",
            "align_content": null,
            "align_items": null,
            "align_self": null,
            "border": null,
            "bottom": null,
            "display": null,
            "flex": null,
            "flex_flow": null,
            "grid_area": null,
            "grid_auto_columns": null,
            "grid_auto_flow": null,
            "grid_auto_rows": null,
            "grid_column": null,
            "grid_gap": null,
            "grid_row": null,
            "grid_template_areas": null,
            "grid_template_columns": null,
            "grid_template_rows": null,
            "height": null,
            "justify_content": null,
            "justify_items": null,
            "left": null,
            "margin": null,
            "max_height": null,
            "max_width": null,
            "min_height": null,
            "min_width": null,
            "object_fit": null,
            "object_position": null,
            "order": null,
            "overflow": null,
            "overflow_x": null,
            "overflow_y": null,
            "padding": null,
            "right": null,
            "top": null,
            "visibility": null,
            "width": null
          }
        },
        "8358f5436a1e4f70b3b8e1aed58a7ad7": {
          "model_module": "@jupyter-widgets/controls",
          "model_name": "ProgressStyleModel",
          "state": {
            "_model_module": "@jupyter-widgets/controls",
            "_model_module_version": "1.5.0",
            "_model_name": "ProgressStyleModel",
            "_view_count": null,
            "_view_module": "@jupyter-widgets/base",
            "_view_module_version": "1.2.0",
            "_view_name": "StyleView",
            "bar_color": null,
            "description_width": "initial"
          }
        },
        "9fc4df7c0fb14418928a8d039e2822b1": {
          "model_module": "@jupyter-widgets/base",
          "model_name": "LayoutModel",
          "state": {
            "_model_module": "@jupyter-widgets/base",
            "_model_module_version": "1.2.0",
            "_model_name": "LayoutModel",
            "_view_count": null,
            "_view_module": "@jupyter-widgets/base",
            "_view_module_version": "1.2.0",
            "_view_name": "LayoutView",
            "align_content": null,
            "align_items": null,
            "align_self": null,
            "border": null,
            "bottom": null,
            "display": null,
            "flex": null,
            "flex_flow": null,
            "grid_area": null,
            "grid_auto_columns": null,
            "grid_auto_flow": null,
            "grid_auto_rows": null,
            "grid_column": null,
            "grid_gap": null,
            "grid_row": null,
            "grid_template_areas": null,
            "grid_template_columns": null,
            "grid_template_rows": null,
            "height": null,
            "justify_content": null,
            "justify_items": null,
            "left": null,
            "margin": null,
            "max_height": null,
            "max_width": null,
            "min_height": null,
            "min_width": null,
            "object_fit": null,
            "object_position": null,
            "order": null,
            "overflow": null,
            "overflow_x": null,
            "overflow_y": null,
            "padding": null,
            "right": null,
            "top": null,
            "visibility": null,
            "width": null
          }
        },
        "a734dba9fae445ba9f18ae5abbab825e": {
          "model_module": "@jupyter-widgets/controls",
          "model_name": "DescriptionStyleModel",
          "state": {
            "_model_module": "@jupyter-widgets/controls",
            "_model_module_version": "1.5.0",
            "_model_name": "DescriptionStyleModel",
            "_view_count": null,
            "_view_module": "@jupyter-widgets/base",
            "_view_module_version": "1.2.0",
            "_view_name": "StyleView",
            "description_width": ""
          }
        },
        "bc49f12ae387481fae119989197eb601": {
          "model_module": "@jupyter-widgets/controls",
          "model_name": "FloatProgressModel",
          "state": {
            "_dom_classes": [],
            "_model_module": "@jupyter-widgets/controls",
            "_model_module_version": "1.5.0",
            "_model_name": "FloatProgressModel",
            "_view_count": null,
            "_view_module": "@jupyter-widgets/controls",
            "_view_module_version": "1.5.0",
            "_view_name": "ProgressView",
            "bar_style": "success",
            "description": "",
            "description_tooltip": null,
            "layout": "IPY_MODEL_f071b0ffedd645e6a0c249bea65fc6c2",
            "max": 169001437,
            "min": 0,
            "orientation": "horizontal",
            "style": "IPY_MODEL_8358f5436a1e4f70b3b8e1aed58a7ad7",
            "value": 169001437
          }
        },
        "c49b0b15b70245d7a4b88a67a96f1a6d": {
          "model_module": "@jupyter-widgets/controls",
          "model_name": "HTMLModel",
          "state": {
            "_dom_classes": [],
            "_model_module": "@jupyter-widgets/controls",
            "_model_module_version": "1.5.0",
            "_model_name": "HTMLModel",
            "_view_count": null,
            "_view_module": "@jupyter-widgets/controls",
            "_view_module_version": "1.5.0",
            "_view_name": "HTMLView",
            "description": "",
            "description_tooltip": null,
            "layout": "IPY_MODEL_24c2f44c42864f939030e4a33573e919",
            "placeholder": "​",
            "style": "IPY_MODEL_a734dba9fae445ba9f18ae5abbab825e",
            "value": " 169001984/? [00:55&lt;00:00, 3055446.80it/s]"
          }
        },
        "dd7eff7f6d2e4bf3b9f24a207533ccf0": {
          "model_module": "@jupyter-widgets/controls",
          "model_name": "HBoxModel",
          "state": {
            "_dom_classes": [],
            "_model_module": "@jupyter-widgets/controls",
            "_model_module_version": "1.5.0",
            "_model_name": "HBoxModel",
            "_view_count": null,
            "_view_module": "@jupyter-widgets/controls",
            "_view_module_version": "1.5.0",
            "_view_name": "HBoxView",
            "box_style": "",
            "children": [
              "IPY_MODEL_bc49f12ae387481fae119989197eb601",
              "IPY_MODEL_c49b0b15b70245d7a4b88a67a96f1a6d"
            ],
            "layout": "IPY_MODEL_9fc4df7c0fb14418928a8d039e2822b1"
          }
        },
        "f071b0ffedd645e6a0c249bea65fc6c2": {
          "model_module": "@jupyter-widgets/base",
          "model_name": "LayoutModel",
          "state": {
            "_model_module": "@jupyter-widgets/base",
            "_model_module_version": "1.2.0",
            "_model_name": "LayoutModel",
            "_view_count": null,
            "_view_module": "@jupyter-widgets/base",
            "_view_module_version": "1.2.0",
            "_view_name": "LayoutView",
            "align_content": null,
            "align_items": null,
            "align_self": null,
            "border": null,
            "bottom": null,
            "display": null,
            "flex": null,
            "flex_flow": null,
            "grid_area": null,
            "grid_auto_columns": null,
            "grid_auto_flow": null,
            "grid_auto_rows": null,
            "grid_column": null,
            "grid_gap": null,
            "grid_row": null,
            "grid_template_areas": null,
            "grid_template_columns": null,
            "grid_template_rows": null,
            "height": null,
            "justify_content": null,
            "justify_items": null,
            "left": null,
            "margin": null,
            "max_height": null,
            "max_width": null,
            "min_height": null,
            "min_width": null,
            "object_fit": null,
            "object_position": null,
            "order": null,
            "overflow": null,
            "overflow_x": null,
            "overflow_y": null,
            "padding": null,
            "right": null,
            "top": null,
            "visibility": null,
            "width": null
          }
        }
      }
    }
  },
  "nbformat": 4,
  "nbformat_minor": 0
}
