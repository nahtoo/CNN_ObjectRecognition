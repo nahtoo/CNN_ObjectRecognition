{
  "cells": [
    {
      "cell_type": "markdown",
      "metadata": {
        "id": "XSfnuObtYYMH"
      },
      "source": [
        "## Description\n",
        "---\n",
        "This project is an introduction to deep learning tools for computer vision. You will design and train deep convolutional networks for object recognition ([cifar-10](https://www.cs.toronto.edu/~kriz/cifar.html)) using [PyTorch](http://pytorch.org). \n",
        "\n",
        "In Problem 1, you will use the pre-trained features from a given CNN backbone network, and train a simple neural network consisting of a couple of feedforward layers and a classification layer. You will need to implement the loss function.\n",
        "\n",
        "In Problem 2, you will implement your own CNN model, initialize model weights randomly and train from scratch.\n",
        "\n",
        "In Problem 3, you will modify the given pre-trained CNN model and fine-tune model weights with the training data.\n",
        "\n",
        "\n",
        "## Some Tutorials (PyTorch)\n",
        "---\n",
        "- You will be using PyTorch for deep learning toolbox (follow the [link](http://pytorch.org) for installation). By default, Colab has installed PyTorch.\n",
        "- For PyTorch beginners, please read this [tutorial](http://pytorch.org/tutorials/beginner/deep_learning_60min_blitz.html) before doing your homework.\n",
        "- Feel free to study more tutorials at http://pytorch.org/tutorials/.\n",
        "- Find cool visualization here at http://playground.tensorflow.org.\n",
        "- Stanford cs231n class at https://cs231n.github.io/.\n",
        "\n",
        "## A Few Terminologies\n",
        "---\n",
        "If you are unfamilar with deep learing terminologies, here is a brief tutorial https://www.analyticsvidhya.com/blog/2017/05/25-must-know-terms-concepts-for-beginners-in-deep-learning/\n",
        "\n",
        "Some important concepts include:\n",
        "\n",
        "Cost Function, Learning Rate, Batches, Epochs, Batch Normalization, Filters, CNN, Pooling\n",
        "\n",
        "\n"
      ]
    },
    {
      "cell_type": "code",
      "execution_count": null,
      "metadata": {
        "id": "0UA6WFgcYYMI"
      },
      "outputs": [],
      "source": [
        "# import packages here\n",
        "import cv2\n",
        "import numpy as np\n",
        "import matplotlib.pyplot as plt\n",
        "import glob\n",
        "import random \n",
        "import time\n",
        "\n",
        "import torch\n",
        "import torchvision\n",
        "import torchvision.transforms as transforms\n",
        "\n",
        "from torch.autograd import Variable\n",
        "import torch.nn as nn\n",
        "import torch.nn.functional as F"
      ]
    },
    {
      "cell_type": "code",
      "execution_count": null,
      "metadata": {
        "colab": {
          "base_uri": "https://localhost:8080/"
        },
        "id": "L7T72O-1ks-a",
        "outputId": "659578f1-52e8-4885-edf5-7fc81d8a6665"
      },
      "outputs": [
        {
          "name": "stdout",
          "output_type": "stream",
          "text": [
            "Mounted at /content/gdrive\n"
          ]
        }
      ],
      "source": [
        "# Mount your google drive where you've saved your assignment folder\n",
        "from google.colab import drive\n",
        "drive.mount('/content/gdrive')"
      ]
    },
    {
      "cell_type": "code",
      "execution_count": null,
      "metadata": {
        "id": "xIT3WIuykrg0"
      },
      "outputs": [],
      "source": [
        "# Set your working directory (in your google drive)\n",
        "#   change it to your specific homework directory.\n",
        "import os\n",
        "os.chdir(\"xxxx\")"
      ]
    },
    {
      "cell_type": "markdown",
      "metadata": {
        "id": "HnkJ-LmJyBod"
      },
      "source": [
        "## Problem 0: Get Pre-trained CNN model from Cifar-100\n",
        "\n",
        "The model is pre-trained with Cifar-100 for 100 class classification.\n",
        "\n",
        "Model file is provided. "
      ]
    },
    {
      "cell_type": "markdown",
      "metadata": {
        "id": "cl8Bo6fCnliN"
      },
      "source": [
        "Adapted from https://zhenye-na.github.io/2018/10/07/pytorch-resnet-cifar100.html"
      ]
    },
    {
      "cell_type": "code",
      "execution_count": null,
      "metadata": {
        "colab": {
          "base_uri": "https://localhost:8080/"
        },
        "id": "jwz3OcMmxXH9",
        "outputId": "3086c503-d235-45ce-c4bd-206fb80838d2"
      },
      "outputs": [
        {
          "name": "stdout",
          "output_type": "stream",
          "text": [
            "Files already downloaded and verified\n",
            "Files already downloaded and verified\n"
          ]
        }
      ],
      "source": [
        "# Normalize training set together with augmentation\n",
        "transform_train = transforms.Compose([\n",
        "    transforms.RandomCrop(32, padding=4),\n",
        "    transforms.RandomHorizontalFlip(),\n",
        "    transforms.ToTensor(),\n",
        "    transforms.Normalize(mean=[0.507, 0.487, 0.441], std=[0.267, 0.256, 0.276])\n",
        "])\n",
        "\n",
        "# Normalize test set same as training set without augmentation\n",
        "transform_test = transforms.Compose([\n",
        "    transforms.ToTensor(),\n",
        "    transforms.Normalize(mean=[0.507, 0.487, 0.441], std=[0.267, 0.256, 0.276])\n",
        "])\n",
        "\n",
        "trainset = torchvision.datasets.CIFAR100(root='./data', train=True,\n",
        "            download=True, transform=transform_train)\n",
        "trainloader = torch.utils.data.DataLoader(trainset, batch_size=256,\n",
        "            shuffle=True, num_workers=2)\n",
        "\n",
        "testset = torchvision.datasets.CIFAR100(root='./data', train=False,\n",
        "            download=True, transform=transform_test)\n",
        "testloader = torch.utils.data.DataLoader(testset, batch_size=256,\n",
        "            shuffle=False, num_workers=2)"
      ]
    },
    {
      "cell_type": "code",
      "execution_count": null,
      "metadata": {
        "id": "zcAy8_ENdBFq"
      },
      "outputs": [],
      "source": [
        "def conv3x3(in_channels, out_channels, stride=1):\n",
        "    \"\"\"3x3 kernel size with padding convolutional layer in ResNet BasicBlock.\"\"\"\n",
        "    return nn.Conv2d(\n",
        "        in_channels=in_channels,\n",
        "        out_channels=out_channels,\n",
        "        kernel_size=3,\n",
        "        stride=stride,\n",
        "        padding=1,\n",
        "        bias=False)\n",
        "\n",
        "\n",
        "class BasicBlock(nn.Module):\n",
        "    \"\"\"Basic Block of ReseNet.\"\"\"\n",
        "\n",
        "    def __init__(self, in_channels, out_channels, stride=1, downsample=None):\n",
        "        \"\"\"Basic Block of ReseNet Builder.\"\"\"\n",
        "        super(BasicBlock, self).__init__()\n",
        "\n",
        "        # First conv3x3 layer\n",
        "        self.conv1 = conv3x3(in_channels, out_channels, stride)\n",
        "\n",
        "        #  Batch Normalization\n",
        "        self.bn1 = nn.BatchNorm2d(num_features=out_channels)\n",
        "\n",
        "        # ReLU Activation Function\n",
        "        self.relu = nn.ReLU(inplace=True)\n",
        "\n",
        "        # Second conv3x3 layer\n",
        "        self.conv2 = conv3x3(out_channels, out_channels)\n",
        "\n",
        "        #  Batch Normalization\n",
        "        self.bn2 = nn.BatchNorm2d(num_features=out_channels)\n",
        "\n",
        "        # downsample for `residual`\n",
        "        self.downsample = downsample\n",
        "        self.stride = stride\n",
        "\n",
        "    def forward(self, x):\n",
        "        \"\"\"Forward Pass of Basic Block.\"\"\"\n",
        "        residual = x\n",
        "\n",
        "        out = self.conv1(x)\n",
        "        out = self.bn1(out)\n",
        "        out = self.relu(out)\n",
        "        out = self.conv2(out)\n",
        "        out = self.bn2(out)\n",
        "\n",
        "        if self.downsample is not None:\n",
        "            residual = self.downsample(x)\n",
        "\n",
        "        out += residual\n",
        "        return out"
      ]
    },
    {
      "cell_type": "code",
      "execution_count": null,
      "metadata": {
        "id": "RcSve9l0dDwL"
      },
      "outputs": [],
      "source": [
        "class ResNet(nn.Module):\n",
        "    \"\"\"Residual Neural Network.\"\"\"\n",
        "\n",
        "    def __init__(self, num_classes=100):\n",
        "        block = BasicBlock\n",
        "        duplicates = [2,4,4,2]\n",
        "\n",
        "        \"\"\"Residual Neural Network Builder.\"\"\"\n",
        "        super(ResNet, self).__init__()\n",
        "\n",
        "        self.in_channels = 32\n",
        "        self.conv1 = conv3x3(in_channels=3, out_channels=32)\n",
        "        self.bn = nn.BatchNorm2d(num_features=32)\n",
        "        self.relu = nn.ReLU(inplace=True)\n",
        "        self.dropout = nn.Dropout2d(p=0.02)\n",
        "\n",
        "        # block of Basic Blocks\n",
        "        self.conv2_x = self._make_block(block, duplicates[0], out_channels=32)\n",
        "        self.conv3_x = self._make_block(block, duplicates[1], out_channels=64, stride=2)\n",
        "        self.conv4_x = self._make_block(block, duplicates[2], out_channels=128, stride=2)\n",
        "        self.conv5_x = self._make_block(block, duplicates[3], out_channels=256, stride=2)\n",
        "\n",
        "        self.maxpool = nn.MaxPool2d(kernel_size=4, stride=1)\n",
        "        self.fc_layer = nn.Linear(256, num_classes)\n",
        "\n",
        "        # initialize weights\n",
        "        # self.apply(initialize_weights)\n",
        "        for m in self.modules():\n",
        "            if isinstance(m, nn.Conv2d):\n",
        "                nn.init.kaiming_normal_(m.weight.data, mode='fan_out')\n",
        "            elif isinstance(m, nn.BatchNorm2d):\n",
        "                m.weight.data.fill_(1)\n",
        "                m.bias.data.zero_()\n",
        "            elif isinstance(m, nn.Linear):\n",
        "                m.bias.data.zero_()\n",
        "\n",
        "    def _make_block(self, block, duplicates, out_channels, stride=1):\n",
        "        \"\"\"\n",
        "        Create Block in ResNet.\n",
        "\n",
        "        Args:\n",
        "            block: BasicBlock\n",
        "            duplicates: number of BasicBlock\n",
        "            out_channels: out channels of the block\n",
        "\n",
        "        Returns:\n",
        "            nn.Sequential(*layers)\n",
        "        \"\"\"\n",
        "        downsample = None\n",
        "        if (stride != 1) or (self.in_channels != out_channels):\n",
        "            downsample = nn.Sequential(\n",
        "                conv3x3(self.in_channels, out_channels, stride=stride),\n",
        "                nn.BatchNorm2d(num_features=out_channels)\n",
        "            )\n",
        "\n",
        "        layers = []\n",
        "        layers.append(\n",
        "            block(self.in_channels, out_channels, stride, downsample))\n",
        "        self.in_channels = out_channels\n",
        "        for _ in range(1, duplicates):\n",
        "            layers.append(block(out_channels, out_channels))\n",
        "\n",
        "        return nn.Sequential(*layers)\n",
        "\n",
        "\n",
        "    def pretrained_feature(self, x):\n",
        "        \"\"\"Forward pass of ResNet.\"\"\"\n",
        "        out = self.conv1(x)\n",
        "        out = self.bn(out)\n",
        "        out = self.relu(out)\n",
        "        out = self.dropout(out)\n",
        "\n",
        "        # Stacked Basic Blocks\n",
        "        out = self.conv2_x(out)\n",
        "        out = self.conv3_x(out)\n",
        "        out = self.conv4_x(out)\n",
        "        out = self.conv5_x(out)\n",
        "\n",
        "        out = self.maxpool(out)\n",
        "        out = out.view(out.size(0), -1)\n",
        "        return out.detach()\n",
        "    \n",
        "    def forward(self, x):\n",
        "        \"\"\"Forward pass of ResNet.\"\"\"\n",
        "        out = self.conv1(x)\n",
        "        out = self.bn(out)\n",
        "        out = self.relu(out)\n",
        "        out = self.dropout(out)\n",
        "\n",
        "        # Stacked Basic Blocks\n",
        "        out = self.conv2_x(out)\n",
        "        out = self.conv3_x(out)\n",
        "        out = self.conv4_x(out)\n",
        "        out = self.conv5_x(out)\n",
        "\n",
        "        out = self.maxpool(out)\n",
        "        out = out.view(out.size(0), -1)\n",
        "        out = self.fc_layer(out)\n",
        "\n",
        "        return out\n",
        "\n",
        "pretrainNet = ResNet().cuda()"
      ]
    },
    {
      "cell_type": "code",
      "execution_count": null,
      "metadata": {
        "id": "5UqJZeeQxePo"
      },
      "outputs": [],
      "source": [
        "import torch.nn as nn\n",
        "import torch.nn.functional as F\n",
        "\n",
        "\n",
        "class PreTrainNet(nn.Module):\n",
        "    def __init__(self):\n",
        "        super(PreTrainNet, self).__init__()\n",
        "        self.conv1 = nn.Conv2d(3, 6, 3)\n",
        "        self.conv2 = nn.Conv2d(6, 8, 3)\n",
        "        self.conv3 = nn.Conv2d(8, 16, 3)\n",
        "        self.conv4 = nn.Conv2d(16, 16, 3)\n",
        "        self.pool = nn.MaxPool2d(2, 2)\n",
        "        self.fc1 = nn.Linear(16 * 5 * 5, 256)\n",
        "        self.fc2 = nn.Linear(256, 256)\n",
        "        self.fc3 = nn.Linear(256, 100)\n",
        "\n",
        "    def feature(self, x):\n",
        "        x = F.relu(self.conv1(x))\n",
        "        x = F.relu(self.conv2(x))\n",
        "        x = self.pool(x)\n",
        "        x = F.relu(self.conv3(x))\n",
        "        x = F.relu(self.conv4(x))\n",
        "        x = self.pool(x)\n",
        "        x = x.view(-1, 16 * 5 * 5)\n",
        "        x = F.relu(self.fc1(x))\n",
        "        x = self.fc2(x)\n",
        "        return x\n",
        "\n",
        "    def pretrained_feature(self, x):\n",
        "        return x.detach()\n",
        "\n",
        "    def forward(self, x):\n",
        "        x = self.feature(x)\n",
        "        x = F.relu(x)\n",
        "        x = self.fc3(x)\n",
        "        return x\n",
        "\n",
        "\n",
        "pretrainNet = PreTrainNet().cuda()"
      ]
    },
    {
      "cell_type": "code",
      "execution_count": null,
      "metadata": {
        "id": "ZBAXHd_h0qAe"
      },
      "outputs": [],
      "source": [
        "import torch.optim as optim\n",
        "\n",
        "criterion = nn.CrossEntropyLoss()\n",
        "optimizer = optim.SGD(pretrainNet.parameters(), lr=0.02, momentum=0.9, weight_decay=1e-5)"
      ]
    },
    {
      "cell_type": "code",
      "execution_count": null,
      "metadata": {
        "colab": {
          "base_uri": "https://localhost:8080/"
        },
        "id": "UOeWdNWrxw-v",
        "outputId": "944a26e6-4300-4297-b343-6d4656559d86"
      },
      "outputs": [
        {
          "name": "stdout",
          "output_type": "stream",
          "text": [
            "[1,    50] loss: 4.606\n",
            "[1,   100] loss: 4.606\n",
            "[1,   150] loss: 4.606\n",
            "[2,    50] loss: 4.605\n",
            "[2,   100] loss: 4.606\n",
            "[2,   150] loss: 4.606\n",
            "[3,    50] loss: 4.604\n",
            "[3,   100] loss: 4.604\n",
            "[3,   150] loss: 4.604\n",
            "[4,    50] loss: 4.593\n",
            "[4,   100] loss: 4.500\n",
            "[4,   150] loss: 4.362\n",
            "[5,    50] loss: 4.141\n",
            "[5,   100] loss: 4.093\n",
            "[5,   150] loss: 4.001\n",
            "[6,    50] loss: 3.930\n",
            "[6,   100] loss: 3.857\n",
            "[6,   150] loss: 3.813\n",
            "[7,    50] loss: 3.736\n",
            "[7,   100] loss: 3.755\n",
            "[7,   150] loss: 3.698\n",
            "[8,    50] loss: 3.645\n",
            "[8,   100] loss: 3.624\n",
            "[8,   150] loss: 3.610\n",
            "[9,    50] loss: 3.541\n",
            "[9,   100] loss: 3.513\n",
            "[9,   150] loss: 3.508\n",
            "[10,    50] loss: 3.440\n",
            "[10,   100] loss: 3.439\n",
            "[10,   150] loss: 3.441\n",
            "[11,    50] loss: 3.376\n",
            "[11,   100] loss: 3.310\n",
            "[11,   150] loss: 3.328\n",
            "[12,    50] loss: 3.276\n",
            "[12,   100] loss: 3.275\n",
            "[12,   150] loss: 3.218\n",
            "[13,    50] loss: 3.202\n",
            "[13,   100] loss: 3.197\n",
            "[13,   150] loss: 3.177\n",
            "[14,    50] loss: 3.156\n",
            "[14,   100] loss: 3.108\n",
            "[14,   150] loss: 3.102\n",
            "[15,    50] loss: 3.065\n",
            "[15,   100] loss: 3.054\n",
            "[15,   150] loss: 3.047\n",
            "[16,    50] loss: 2.989\n",
            "[16,   100] loss: 3.021\n",
            "[16,   150] loss: 2.977\n",
            "[17,    50] loss: 2.885\n",
            "[17,   100] loss: 2.966\n",
            "[17,   150] loss: 2.961\n",
            "[18,    50] loss: 2.925\n",
            "[18,   100] loss: 2.868\n",
            "[18,   150] loss: 2.896\n",
            "[19,    50] loss: 2.845\n",
            "[19,   100] loss: 2.824\n",
            "[19,   150] loss: 2.850\n",
            "[20,    50] loss: 2.810\n",
            "[20,   100] loss: 2.760\n",
            "[20,   150] loss: 2.802\n",
            "[21,    50] loss: 2.758\n",
            "[21,   100] loss: 2.705\n",
            "[21,   150] loss: 2.767\n",
            "[22,    50] loss: 2.703\n",
            "[22,   100] loss: 2.742\n",
            "[22,   150] loss: 2.727\n",
            "[23,    50] loss: 2.657\n",
            "[23,   100] loss: 2.665\n",
            "[23,   150] loss: 2.676\n",
            "[24,    50] loss: 2.631\n",
            "[24,   100] loss: 2.659\n",
            "[24,   150] loss: 2.618\n",
            "[25,    50] loss: 2.587\n",
            "[25,   100] loss: 2.612\n",
            "[25,   150] loss: 2.614\n",
            "[26,    50] loss: 2.594\n",
            "[26,   100] loss: 2.629\n",
            "[26,   150] loss: 2.585\n",
            "[27,    50] loss: 2.588\n",
            "[27,   100] loss: 2.575\n",
            "[27,   150] loss: 2.588\n",
            "[28,    50] loss: 2.517\n",
            "[28,   100] loss: 2.542\n",
            "[28,   150] loss: 2.602\n",
            "[29,    50] loss: 2.495\n",
            "[29,   100] loss: 2.520\n",
            "[29,   150] loss: 2.528\n",
            "[30,    50] loss: 2.517\n",
            "[30,   100] loss: 2.517\n",
            "[30,   150] loss: 2.532\n",
            "[31,    50] loss: 2.484\n",
            "[31,   100] loss: 2.478\n",
            "[31,   150] loss: 2.532\n",
            "[32,    50] loss: 2.514\n",
            "[32,   100] loss: 2.478\n",
            "[32,   150] loss: 2.481\n",
            "[33,    50] loss: 2.460\n",
            "[33,   100] loss: 2.442\n",
            "[33,   150] loss: 2.446\n",
            "[34,    50] loss: 2.420\n",
            "[34,   100] loss: 2.477\n",
            "[34,   150] loss: 2.450\n",
            "[35,    50] loss: 2.459\n",
            "[35,   100] loss: 2.410\n",
            "[35,   150] loss: 2.429\n",
            "[36,    50] loss: 2.425\n",
            "[36,   100] loss: 2.383\n",
            "[36,   150] loss: 2.400\n",
            "[37,    50] loss: 2.412\n",
            "[37,   100] loss: 2.385\n",
            "[37,   150] loss: 2.418\n",
            "[38,    50] loss: 2.374\n",
            "[38,   100] loss: 2.401\n",
            "[38,   150] loss: 2.393\n",
            "[39,    50] loss: 2.359\n",
            "[39,   100] loss: 2.369\n",
            "[39,   150] loss: 2.400\n",
            "[40,    50] loss: 2.351\n",
            "[40,   100] loss: 2.353\n",
            "[40,   150] loss: 2.362\n",
            "[41,    50] loss: 2.275\n",
            "[41,   100] loss: 2.385\n",
            "[41,   150] loss: 2.344\n",
            "[42,    50] loss: 2.362\n",
            "[42,   100] loss: 2.354\n",
            "[42,   150] loss: 2.373\n",
            "[43,    50] loss: 2.338\n",
            "[43,   100] loss: 2.317\n",
            "[43,   150] loss: 2.308\n",
            "[44,    50] loss: 2.337\n",
            "[44,   100] loss: 2.285\n",
            "[44,   150] loss: 2.329\n",
            "[45,    50] loss: 2.299\n",
            "[45,   100] loss: 2.313\n",
            "[45,   150] loss: 2.301\n",
            "[46,    50] loss: 2.329\n",
            "[46,   100] loss: 2.292\n",
            "[46,   150] loss: 2.348\n",
            "[47,    50] loss: 2.302\n",
            "[47,   100] loss: 2.260\n",
            "[47,   150] loss: 2.298\n",
            "[48,    50] loss: 2.300\n",
            "[48,   100] loss: 2.301\n",
            "[48,   150] loss: 2.320\n",
            "[49,    50] loss: 2.270\n",
            "[49,   100] loss: 2.230\n",
            "[49,   150] loss: 2.264\n",
            "[50,    50] loss: 2.206\n",
            "[50,   100] loss: 2.235\n",
            "[50,   150] loss: 2.294\n",
            "Finished Training\n"
          ]
        }
      ],
      "source": [
        "def set_random_seed(seed):\n",
        "     torch.manual_seed(seed)\n",
        "     torch.cuda.manual_seed_all(seed)\n",
        "     np.random.seed(seed)\n",
        "     random.seed(seed)\n",
        "     torch.backends.cudnn.deterministic = True\n",
        "set_random_seed(0)\n",
        "\n",
        "for epoch in range(50):  # loop over the dataset multiple times\n",
        "\n",
        "    running_loss = 0.0\n",
        "    for i, data in enumerate(trainloader, 0):\n",
        "        # get the inputs; data is a list of [inputs, labels]\n",
        "        inputs, labels = data\n",
        "        inputs = inputs.cuda()\n",
        "        labels = labels.cuda()\n",
        "\n",
        "        # zero the parameter gradients\n",
        "        optimizer.zero_grad()\n",
        "\n",
        "        # forward + backward + optimize\n",
        "        outputs = pretrainNet(inputs)\n",
        "        loss = criterion(outputs, labels)\n",
        "        loss.backward()\n",
        "        optimizer.step()\n",
        "\n",
        "        # print statistics\n",
        "        running_loss += loss.item()\n",
        "        if i % 50 == 49:    # print every 500 mini-batches\n",
        "            print('[%d, %5d] loss: %.3f' %\n",
        "                  (epoch + 1, i + 1, running_loss / 50))\n",
        "            running_loss = 0.0\n",
        "\n",
        "print('Finished Training')"
      ]
    },
    {
      "cell_type": "code",
      "execution_count": null,
      "metadata": {
        "colab": {
          "base_uri": "https://localhost:8080/"
        },
        "id": "XkjGV9GGyeRe",
        "outputId": "af088fb0-3826-4e92-ed3a-1d264d017e5d"
      },
      "outputs": [
        {
          "name": "stdout",
          "output_type": "stream",
          "text": [
            "Accuracy of the network on the 10000 test images: 38 %\n"
          ]
        }
      ],
      "source": [
        "\n",
        "correct = 0\n",
        "total = 0\n",
        "with torch.no_grad():\n",
        "    for data in testloader:\n",
        "        images, labels = data\n",
        "        images = images.cuda()\n",
        "        labels = labels.cuda()\n",
        "        outputs = pretrainNet(images)\n",
        "        _, predicted = torch.max(outputs.data, 1)\n",
        "        total += labels.size(0)\n",
        "        correct += (predicted == labels).sum().item()\n",
        "\n",
        "print('Accuracy of the network on the 10000 test images: %d %%' % (\n",
        "    100 * correct / total))"
      ]
    },
    {
      "cell_type": "code",
      "execution_count": null,
      "metadata": {
        "id": "OsLfWW8E44dv"
      },
      "outputs": [],
      "source": [
        "# PATH = './cifar100_net.pth'\n",
        "# torch.save(pretrainNet.state_dict(), PATH)"
      ]
    },
    {
      "cell_type": "markdown",
      "metadata": {
        "id": "nvXMlnZg9uNp"
      },
      "source": [
        "## Problem 1: Training with Pre-trained Features \n",
        "---\n",
        "You will load a pretrained model and get pretrained features of the training images with this mode. Then you need to create your simple Neural Network, implement loss function, train and evaluate on Cifar-10. \n",
        "\n",
        "**In order to get full credits, your test accuracy should be higher than acc_ta-5%, where acc_ta is TA's implementation, shown in the block's output.**\n",
        "\n",
        "You should keep training logs as they are in the block's output.\n",
        "\n",
        "Load pretrained CNN model."
      ]
    },
    {
      "cell_type": "code",
      "execution_count": null,
      "metadata": {
        "id": "1JFagkxnTs_o"
      },
      "outputs": [],
      "source": [
        "## This following two blocks define the pretrained CNN network architecture\n",
        "\n",
        "def conv3x3(in_channels, out_channels, stride=1):\n",
        "    \"\"\"3x3 kernel size with padding convolutional layer in ResNet BasicBlock.\"\"\"\n",
        "    return nn.Conv2d(\n",
        "        in_channels=in_channels,\n",
        "        out_channels=out_channels,\n",
        "        kernel_size=3,\n",
        "        stride=stride,\n",
        "        padding=1,\n",
        "        bias=False)\n",
        "\n",
        "\n",
        "class BasicBlock(nn.Module):\n",
        "    \"\"\"Basic Block of ReseNet.\"\"\"\n",
        "\n",
        "    def __init__(self, in_channels, out_channels, stride=1, downsample=None):\n",
        "        \"\"\"Basic Block of ReseNet Builder.\"\"\"\n",
        "        super(BasicBlock, self).__init__()\n",
        "\n",
        "        # First conv3x3 layer\n",
        "        self.conv1 = conv3x3(in_channels, out_channels, stride)\n",
        "\n",
        "        #  Batch Normalization\n",
        "        self.bn1 = nn.BatchNorm2d(num_features=out_channels)\n",
        "\n",
        "        # ReLU Activation Function\n",
        "        self.relu = nn.ReLU(inplace=True)\n",
        "\n",
        "        # Second conv3x3 layer\n",
        "        self.conv2 = conv3x3(out_channels, out_channels)\n",
        "\n",
        "        #  Batch Normalization\n",
        "        self.bn2 = nn.BatchNorm2d(num_features=out_channels)\n",
        "\n",
        "        # downsample for `residual`\n",
        "        self.downsample = downsample\n",
        "        self.stride = stride\n",
        "\n",
        "    def forward(self, x):\n",
        "        \"\"\"Forward Pass of Basic Block.\"\"\"\n",
        "        residual = x\n",
        "\n",
        "        out = self.conv1(x)\n",
        "        out = self.bn1(out)\n",
        "        out = self.relu(out)\n",
        "        out = self.conv2(out)\n",
        "        out = self.bn2(out)\n",
        "\n",
        "        if self.downsample is not None:\n",
        "            residual = self.downsample(x)\n",
        "\n",
        "        out += residual\n",
        "        return out"
      ]
    },
    {
      "cell_type": "code",
      "execution_count": null,
      "metadata": {
        "colab": {
          "base_uri": "https://localhost:8080/"
        },
        "id": "zUndSns99-6k",
        "outputId": "06261524-16c7-4adf-f25f-ea577c081abb"
      },
      "outputs": [
        {
          "data": {
            "text/plain": [
              "<All keys matched successfully>"
            ]
          },
          "execution_count": 5,
          "metadata": {
            "tags": []
          },
          "output_type": "execute_result"
        }
      ],
      "source": [
        "class ResNet(nn.Module):\n",
        "    \"\"\"Residual Neural Network.\"\"\"\n",
        "\n",
        "    def __init__(self, num_classes=100):\n",
        "        block = BasicBlock\n",
        "        duplicates = [2,4,4,2]\n",
        "\n",
        "        \"\"\"Residual Neural Network Builder.\"\"\"\n",
        "        super(ResNet, self).__init__()\n",
        "\n",
        "        self.in_channels = 32\n",
        "        self.conv1 = conv3x3(in_channels=3, out_channels=32)\n",
        "        self.bn = nn.BatchNorm2d(num_features=32)\n",
        "        self.relu = nn.ReLU(inplace=True)\n",
        "        self.dropout = nn.Dropout2d(p=0.02)\n",
        "\n",
        "        # block of Basic Blocks\n",
        "        self.conv2_x = self._make_block(block, duplicates[0], out_channels=32)\n",
        "        self.conv3_x = self._make_block(block, duplicates[1], out_channels=64, stride=2)\n",
        "        self.conv4_x = self._make_block(block, duplicates[2], out_channels=128, stride=2)\n",
        "        self.conv5_x = self._make_block(block, duplicates[3], out_channels=256, stride=2)\n",
        "\n",
        "        self.maxpool = nn.MaxPool2d(kernel_size=4, stride=1)\n",
        "        self.fc_layer = nn.Linear(256, num_classes)\n",
        "\n",
        "        # initialize weights\n",
        "        # self.apply(initialize_weights)\n",
        "        for m in self.modules():\n",
        "            if isinstance(m, nn.Conv2d):\n",
        "                nn.init.kaiming_normal_(m.weight.data, mode='fan_out')\n",
        "            elif isinstance(m, nn.BatchNorm2d):\n",
        "                m.weight.data.fill_(1)\n",
        "                m.bias.data.zero_()\n",
        "            elif isinstance(m, nn.Linear):\n",
        "                m.bias.data.zero_()\n",
        "\n",
        "    def _make_block(self, block, duplicates, out_channels, stride=1):\n",
        "        \"\"\"\n",
        "        Create Block in ResNet.\n",
        "\n",
        "        Args:\n",
        "            block: BasicBlock\n",
        "            duplicates: number of BasicBlock\n",
        "            out_channels: out channels of the block\n",
        "\n",
        "        Returns:\n",
        "            nn.Sequential(*layers)\n",
        "        \"\"\"\n",
        "        downsample = None\n",
        "        if (stride != 1) or (self.in_channels != out_channels):\n",
        "            downsample = nn.Sequential(\n",
        "                conv3x3(self.in_channels, out_channels, stride=stride),\n",
        "                nn.BatchNorm2d(num_features=out_channels)\n",
        "            )\n",
        "\n",
        "        layers = []\n",
        "        layers.append(\n",
        "            block(self.in_channels, out_channels, stride, downsample))\n",
        "        self.in_channels = out_channels\n",
        "        for _ in range(1, duplicates):\n",
        "            layers.append(block(out_channels, out_channels))\n",
        "\n",
        "        return nn.Sequential(*layers)\n",
        "\n",
        "\n",
        "    def pretrained_feature(self, x):\n",
        "        \"\"\"Forward pass of ResNet.\"\"\"\n",
        "        out = self.conv1(x)\n",
        "        out = self.bn(out)\n",
        "        out = self.relu(out)\n",
        "        out = self.dropout(out)\n",
        "\n",
        "        # Stacked Basic Blocks\n",
        "        out = self.conv2_x(out)\n",
        "        out = self.conv3_x(out)\n",
        "        out = self.conv4_x(out)\n",
        "        out = self.conv5_x(out)\n",
        "\n",
        "        out = self.maxpool(out)\n",
        "        out = out.view(out.size(0), -1)\n",
        "        return out.detach()\n",
        "    \n",
        "    def forward(self, x):\n",
        "        \"\"\"Forward pass of ResNet.\"\"\"\n",
        "        out = self.conv1(x)\n",
        "        out = self.bn(out)\n",
        "        out = self.relu(out)\n",
        "        out = self.dropout(out)\n",
        "\n",
        "        # Stacked Basic Blocks\n",
        "        out = self.conv2_x(out)\n",
        "        out = self.conv3_x(out)\n",
        "        out = self.conv4_x(out)\n",
        "        out = self.conv5_x(out)\n",
        "\n",
        "        out = self.maxpool(out)\n",
        "        out = out.view(out.size(0), -1)\n",
        "        out = self.fc_layer(out)\n",
        "\n",
        "        return out\n",
        "\n",
        "pretrainNet = ResNet().cuda()\n",
        "\n",
        "# make sure upload model file to current directory             \n",
        "pretrainNet.load_state_dict(torch.load('./cifar100_net.pth'))"
      ]
    },
    {
      "cell_type": "markdown",
      "metadata": {
        "id": "v7Jdac3aCx7N"
      },
      "source": [
        "Load and show Cifar-10 sample images"
      ]
    },
    {
      "cell_type": "code",
      "execution_count": null,
      "metadata": {
        "colab": {
          "base_uri": "https://localhost:8080/"
        },
        "id": "SIyZclH1ucHD",
        "outputId": "2afcb19e-9688-45ef-a5c5-64b98510ad6f"
      },
      "outputs": [
        {
          "name": "stdout",
          "output_type": "stream",
          "text": [
            "Files already downloaded and verified\n",
            "Files already downloaded and verified\n"
          ]
        }
      ],
      "source": [
        "transform = transforms.Compose([\n",
        "    transforms.ToTensor(),\n",
        "    transforms.Normalize(mean=[0.507, 0.487, 0.441], std=[0.267, 0.256, 0.276])\n",
        "])\n",
        "\n",
        "trainset = torchvision.datasets.CIFAR10(root='./data', train=True,\n",
        "          download=True, transform=transform)\n",
        "trainloader = torch.utils.data.DataLoader(trainset, batch_size=256,\n",
        "          shuffle=True, num_workers=2)\n",
        "\n",
        "testset = torchvision.datasets.CIFAR10(root='./data', train=False,\n",
        "          download=True, transform=transform)\n",
        "testloader = torch.utils.data.DataLoader(testset, batch_size=256,\n",
        "          shuffle=False, num_workers=2)\n",
        "\n",
        "classes = ('plane', 'car', 'bird', 'cat',\n",
        "           'deer', 'dog', 'frog', 'horse', 'ship', 'truck')"
      ]
    },
    {
      "cell_type": "code",
      "execution_count": null,
      "metadata": {
        "colab": {
          "base_uri": "https://localhost:8080/",
          "height": 239
        },
        "id": "Jdd5AL_zuygj",
        "outputId": "96b7f8c8-4d3c-487e-d181-eeaddd3900e4"
      },
      "outputs": [
        {
          "name": "stderr",
          "output_type": "stream",
          "text": [
            "Clipping input data to the valid range for imshow with RGB data ([0..1] for floats or [0..255] for integers).\n"
          ]
        },
        {
          "data": {
            "image/png": "[encoded data removed]",
            "text/plain": [
              "<Figure size 432x288 with 1 Axes>"
            ]
          },
          "metadata": {
            "needs_background": "light",
            "tags": []
          },
          "output_type": "display_data"
        }
      ],
      "source": [
        "import matplotlib.pyplot as plt\n",
        "import numpy as np\n",
        "\n",
        "# functions to show an image\n",
        "\n",
        "\n",
        "def imshow(img):\n",
        "    img = img / 2 + 0.5     # unnormalize\n",
        "    npimg = img.numpy()\n",
        "    plt.imshow(np.transpose(npimg, (1, 2, 0)))\n",
        "    plt.show()\n",
        "\n",
        "\n",
        "# get some random training images\n",
        "dataiter = iter(trainloader)\n",
        "images, labels = dataiter.next()\n",
        "\n",
        "# show images\n",
        "imshow(torchvision.utils.make_grid(images[:32]))\n",
        "\n"
      ]
    },
    {
      "cell_type": "markdown",
      "metadata": {
        "id": "FOeKHOf_7v-t"
      },
      "source": [
        "First, create your simple Neural Network consisting of a couple of feedforward layers (e.g. torch.nn.Linear) (**no convolutional layers required**). This model will take pretrained features as inputs. (20 points)"
      ]
    },
    {
      "cell_type": "code",
      "execution_count": null,
      "metadata": {
        "id": "uVjnD0LlBGiN"
      },
      "outputs": [],
      "source": [
        "import torch.nn as nn\n",
        "import torch.nn.functional as F\n",
        "\n",
        "\n",
        "class SimpleNet(nn.Module):\n",
        "    def __init__(self):\n",
        "        #Pretrained feature size 256 x 256\n",
        "        super(SimpleNet, self).__init__()\n",
        "        self.fc1 = nn.Linear(256, 120) \n",
        "        self.fc2 = nn.Linear(120, 84)\n",
        "        self.fc3 = nn.Linear(84, 36)\n",
        "        self.fc4 = nn.Linear(36, 10)\n",
        "\n",
        "\n",
        "    def forward(self, x): \n",
        "        out = F.relu(self.fc1(x))\n",
        "        out = F.relu(self.fc2(out))\n",
        "        out = F.relu(self.fc3(out))\n",
        "        out = self.fc4(out)\n",
        "        return out\n",
        "\n",
        "simpleNet = SimpleNet().cuda()"
      ]
    },
    {
      "cell_type": "markdown",
      "metadata": {
        "id": "RWRPJTmf8MPN"
      },
      "source": [
        "Then, implement the [cross entropy loss](https://pytorch.org/docs/stable/generated/torch.nn.CrossEntropyLoss.html) by yourself. You are not permitted to use torch.nn.CrossEntropyLoss directly, but you can use other non-loss pytorch methods like torch.nn.LogSoftmax, etc.\n",
        "\n",
        "For more information about loss functions, refer to https://cs231n.github.io/neural-networks-2/#losses . Basically, loss functions measures the compatibility between a prediction and the ground truth label. Cross entropy loss is the most widely used loss function for classification tasks. Here are some materials on cross entropy loss:\n",
        "\n",
        "https://towardsdatascience.com/cross-entropy-loss-function-f38c4ec8643e\n",
        "\n",
        "https://medium.com/data-science-bootcamp/understand-cross-entropy-loss-in-minutes-9fb263caee9a\n",
        "\n",
        "https://datascience.stackexchange.com/questions/20296/cross-entropy-loss-explanation"
      ]
    },
    {
      "cell_type": "code",
      "execution_count": null,
      "metadata": {
        "id": "7louJ0vqBpid"
      },
      "outputs": [],
      "source": [
        "import torch.optim as optim\n",
        "import tensorflow as tf\n",
        "import math\n",
        "\n",
        "class myCrossEntropyLoss(nn.Module):\n",
        "    def __init__(self):\n",
        "        super(myCrossEntropyLoss, self).__init__()\n",
        "        self.logsm = nn.LogSoftmax()\n",
        "    \n",
        "    def forward(self, outputs, labels):\n",
        "        # good article on cross entropy function for classification https://towardsdatascience.com/cross-entropy-loss-function-f38c4ec8643e\n",
        "        # might be using wrong dimension (feel like ouputs are a single columnn or row)\n",
        "        out = self.logsm(outputs)    \n",
        "\n",
        "        # reshape labels to give a flat vector of length batch_size*seq_len\n",
        "        labels = labels.view(-1)  \n",
        "\n",
        "        # mask out 'PAD' tokens\n",
        "        mask = (labels >= 0).float()\n",
        "\n",
        "        # the number of tokens is the sum of elements in mask\n",
        "        num_tokens = int(torch.sum(mask))\n",
        "\n",
        "        # pick the values corresponding to labels and multiply by mask\n",
        "        out = out[range(out.shape[0]), labels]*mask\n",
        "\n",
        "        # cross entropy loss for all non 'PAD' tokens\n",
        "        return -torch.sum(out)/num_tokens\n",
        "\n",
        "# define loss function\n",
        "criterion = myCrossEntropyLoss()\n",
        "\n",
        "# define optimizer. Pay attention to the arguments\n",
        "optimizer = optim.Adam(simpleNet.parameters(), lr=0.0005)"
      ]
    },
    {
      "cell_type": "markdown",
      "metadata": {
        "id": "Q6jN7_Gj9-o5"
      },
      "source": [
        "Train the model on training images."
      ]
    },
    {
      "cell_type": "code",
      "execution_count": null,
      "metadata": {
        "colab": {
          "base_uri": "https://localhost:8080/"
        },
        "id": "BNFnntTwDihV",
        "outputId": "2fa60510-643d-4d0c-8c41-84335f5a60f0"
      },
      "outputs": [
        {
          "name": "stderr",
          "output_type": "stream",
          "text": [
            "/usr/local/lib/python3.7/dist-packages/ipykernel_launcher.py:19: UserWarning: Implicit dimension choice for log_softmax has been deprecated. Change the call to include dim=X as an argument.\n"
          ]
        },
        {
          "name": "stdout",
          "output_type": "stream",
          "text": [
            "[1,    50] loss: 1.906\n",
            "[1,   100] loss: 1.240\n",
            "[1,   150] loss: 1.057\n",
            "[2,    50] loss: 0.897\n",
            "[2,   100] loss: 0.871\n",
            "[2,   150] loss: 0.886\n",
            "[3,    50] loss: 0.837\n",
            "[3,   100] loss: 0.804\n",
            "[3,   150] loss: 0.814\n",
            "[4,    50] loss: 0.777\n",
            "[4,   100] loss: 0.783\n",
            "[4,   150] loss: 0.782\n",
            "[5,    50] loss: 0.771\n",
            "[5,   100] loss: 0.759\n",
            "[5,   150] loss: 0.763\n",
            "[6,    50] loss: 0.737\n",
            "[6,   100] loss: 0.742\n",
            "[6,   150] loss: 0.757\n",
            "[7,    50] loss: 0.728\n",
            "[7,   100] loss: 0.749\n",
            "[7,   150] loss: 0.721\n",
            "[8,    50] loss: 0.727\n",
            "[8,   100] loss: 0.722\n",
            "[8,   150] loss: 0.712\n",
            "[9,    50] loss: 0.725\n",
            "[9,   100] loss: 0.708\n",
            "[9,   150] loss: 0.725\n",
            "[10,    50] loss: 0.692\n",
            "[10,   100] loss: 0.713\n",
            "[10,   150] loss: 0.711\n",
            "[11,    50] loss: 0.701\n",
            "[11,   100] loss: 0.692\n",
            "[11,   150] loss: 0.708\n",
            "[12,    50] loss: 0.686\n",
            "[12,   100] loss: 0.695\n",
            "[12,   150] loss: 0.711\n",
            "[13,    50] loss: 0.683\n",
            "[13,   100] loss: 0.705\n",
            "[13,   150] loss: 0.685\n",
            "[14,    50] loss: 0.676\n",
            "[14,   100] loss: 0.695\n",
            "[14,   150] loss: 0.669\n",
            "[15,    50] loss: 0.674\n",
            "[15,   100] loss: 0.662\n",
            "[15,   150] loss: 0.674\n",
            "[16,    50] loss: 0.686\n",
            "[16,   100] loss: 0.662\n",
            "[16,   150] loss: 0.677\n",
            "[17,    50] loss: 0.673\n",
            "[17,   100] loss: 0.660\n",
            "[17,   150] loss: 0.654\n",
            "[18,    50] loss: 0.650\n",
            "[18,   100] loss: 0.649\n",
            "[18,   150] loss: 0.655\n",
            "[19,    50] loss: 0.656\n",
            "[19,   100] loss: 0.650\n",
            "[19,   150] loss: 0.655\n",
            "[20,    50] loss: 0.639\n",
            "[20,   100] loss: 0.635\n",
            "[20,   150] loss: 0.644\n",
            "Finished Training\n"
          ]
        }
      ],
      "source": [
        "def set_random_seed(seed):\n",
        "     torch.manual_seed(seed)\n",
        "     torch.cuda.manual_seed_all(seed)\n",
        "     np.random.seed(seed)\n",
        "     random.seed(seed)\n",
        "     torch.backends.cudnn.deterministic = True\n",
        "set_random_seed(0)\n",
        "\n",
        "for epoch in range(20):  # loop over the dataset multiple times\n",
        "\n",
        "    running_loss = 0.0\n",
        "    for i, data in enumerate(trainloader, 0):\n",
        "        # get the inputs; data is a list of [inputs, labels]\n",
        "        inputs, labels = data\n",
        "        inputs = inputs.cuda()\n",
        "        labels = labels.cuda()\n",
        "\n",
        "        # get pretrained features\n",
        "        inputs = pretrainNet.pretrained_feature(inputs)\n",
        "\n",
        "        # zero the parameter gradients\n",
        "        optimizer.zero_grad()\n",
        "\n",
        "        # forward + backward + optimize\n",
        "        outputs = simpleNet(inputs)\n",
        "        loss = criterion(outputs, labels)\n",
        "        loss.backward()\n",
        "        optimizer.step()\n",
        "\n",
        "        # print statistics\n",
        "        running_loss += loss.item()\n",
        "        if i % 50 == 49:    # print every 50 mini-batches\n",
        "            print('[%d, %5d] loss: %.3f' %\n",
        "                  (epoch + 1, i + 1, running_loss / 50))\n",
        "            running_loss = 0.0\n",
        "\n",
        "print('Finished Training')"
      ]
    },
    {
      "cell_type": "markdown",
      "metadata": {
        "id": "bCHRGURX95BA"
      },
      "source": [
        "Now, evaluate on the test images."
      ]
    },
    {
      "cell_type": "code",
      "execution_count": null,
      "metadata": {
        "colab": {
          "base_uri": "https://localhost:8080/"
        },
        "id": "fmAtvqbbDyrI",
        "outputId": "1625ebf8-f531-4eb0-cd9f-580f26b91d06"
      },
      "outputs": [
        {
          "name": "stdout",
          "output_type": "stream",
          "text": [
            "Accuracy of the network on the 10000 test images: 74 %\n"
          ]
        }
      ],
      "source": [
        "correct = 0\n",
        "total = 0\n",
        "with torch.no_grad():\n",
        "    for data in testloader:\n",
        "        images, labels = data\n",
        "        images = images.cuda()\n",
        "        labels = labels.cuda()\n",
        "        images = pretrainNet.pretrained_feature(images)\n",
        "        outputs = simpleNet(images)\n",
        "        _, predicted = torch.max(outputs.data, 1)\n",
        "        total += labels.size(0)\n",
        "        correct += (predicted == labels).sum().item()\n",
        "\n",
        "print('Accuracy of the network on the 10000 test images: %d %%' % (\n",
        "    100 * correct / total))"
      ]
    },
    {
      "cell_type": "markdown",
      "metadata": {
        "id": "z9_MgzRsCTQE"
      },
      "source": [
        "## Problem 2: Training from scratch \n",
        "---\n",
        "Now create your CNN model from scratch. This model will take raw images as input. You can refer to some representative CNN model architecture like [AlexNet](https://pytorch.org/hub/pytorch_vision_alexnet/), [VGGNet](https://pytorch.org/hub/pytorch_vision_vgg/), etc. You are **Not** required to implement residual connections like [ResNet](https://pytorch.org/hub/pytorch_vision_resnet/). You are free to use layers like torch.nn.Conv2d, torch.nn.MaxPool2d, torch.nn.BatchNorm2d, torch.nn.Dropout, etc. \n",
        "\n",
        "You can use torch.nn.init to initialize the parameters. See https://pytorch.org/docs/stable/nn.html for api descriptions.\n",
        "\n",
        "To make it simpler, we provided an examplar network. You could improve from this. We did not initialize weights explictly, but you are **requried** to do that.\n",
        "\n",
        "**In order to get full credits, your test accuracy should be higher than acc_ta, where acc_ta is TA's implementation, shown in the block's output.**\n",
        "\n",
        "You should keep training logs as they are in the block's output."
      ]
    },
    {
      "cell_type": "code",
      "execution_count": null,
      "metadata": {
        "id": "6y5Pv8nKvNW3"
      },
      "outputs": [],
      "source": [
        "import torch.nn as nn\n",
        "import torch.nn.functional as F\n",
        "\n",
        "class ExamplarNet(nn.Module):\n",
        "    def __init__(self):\n",
        "        super(Net, self).__init__()\n",
        "        self.conv1 = nn.Conv2d(3, 6, 5)\n",
        "        self.pool = nn.MaxPool2d(2, 2)\n",
        "        self.conv2 = nn.Conv2d(6, 16, 5)\n",
        "        self.fc1 = nn.Linear(16 * 5 * 5, 120)\n",
        "        self.fc2 = nn.Linear(120, 84)\n",
        "        self.fc3 = nn.Linear(84, 10)\n",
        "\n",
        "    def forward(self, x):\n",
        "        x = self.pool(F.relu(self.conv1(x)))\n",
        "        x = self.pool(F.relu(self.conv2(x)))\n",
        "        x = x.view(-1, 16 * 5 * 5)\n",
        "        x = F.relu(self.fc1(x))\n",
        "        x = F.relu(self.fc2(x))\n",
        "        x = self.fc3(x)\n",
        "        return x\n",
        "\n",
        "\n",
        "def init_weights(m):\n",
        "  if type(m) == nn.Linear or type(m) == nn.Conv2d:\n",
        "    nn.init.xavier_uniform_(m.weight)\n",
        "\n",
        "class FlattenImg(nn.Module):\n",
        "  def forward(self, x):\n",
        "    return x.view(-1, 16 * 5 * 5)\n",
        "\n",
        "class Net(nn.Module):\n",
        "    ##-------------TODO----------------# \n",
        "    def __init__(self):\n",
        "        # build network and initialize weights by torch.nn.init\n",
        "        super(Net, self).__init__()\n",
        "        self.layer1 = nn.Sequential(\n",
        "            nn.Conv2d(3, 6, 5), nn.ReLU(), nn.MaxPool2d(2, 2),\n",
        "            nn.Conv2d(6, 16, 5), nn.ReLU(),nn.MaxPool2d(2, 2),\n",
        "            nn.Flatten()\n",
        "            )\n",
        "        self.layer2 = nn.Sequential(\n",
        "            nn.BatchNorm1d(16 * 5 * 5),\n",
        "            nn.Linear(16 * 5 * 5, 600), nn.ReLU(),\n",
        "        )\n",
        "        self.reslayer = nn.Sequential(\n",
        "            nn.Linear(600, 600), nn.ReLU()\n",
        "        )\n",
        "        self.layer4 = nn.Sequential(\n",
        "            nn.Linear(600, 120), nn.ReLU(),\n",
        "            nn.Linear(120, 84), nn.ReLU(),\n",
        "            nn.Linear(84, 10)\n",
        "        )\n",
        "        self.layer1.apply(init_weights)\n",
        "        self.layer2.apply(init_weights)\n",
        "        self.reslayer.apply(init_weights)\n",
        "        self.layer4.apply(init_weights)\n",
        "\n",
        "    def forward(self, x):\n",
        "      out = self.layer1(x)\n",
        "      out = self.layer2(out)\n",
        "      out = out + self.reslayer(out)\n",
        "      out = self.layer4(out)\n",
        "      return out\n",
        "\n",
        "net = Net().cuda()"
      ]
    },
    {
      "cell_type": "code",
      "execution_count": null,
      "metadata": {
        "id": "4ZWZY8OfvQLp"
      },
      "outputs": [],
      "source": [
        "import torch.optim as optim\n",
        "\n",
        "# define loss and optimizer\n",
        "criterion = nn.CrossEntropyLoss()\n",
        "optimizer = optim.SGD(net.parameters(), lr=0.001, momentum=0.9)"
      ]
    },
    {
      "cell_type": "code",
      "execution_count": null,
      "metadata": {
        "colab": {
          "base_uri": "https://localhost:8080/"
        },
        "id": "5pwD2hsfvUM2",
        "outputId": "23e9b479-91bf-4873-88fa-7e0eef5545c1"
      },
      "outputs": [
        {
          "name": "stdout",
          "output_type": "stream",
          "text": [
            "[1,    50] loss: 2.310\n",
            "[1,   100] loss: 2.061\n",
            "[1,   150] loss: 1.895\n",
            "[2,    50] loss: 1.710\n",
            "[2,   100] loss: 1.656\n",
            "[2,   150] loss: 1.645\n",
            "[3,    50] loss: 1.550\n",
            "[3,   100] loss: 1.514\n",
            "[3,   150] loss: 1.511\n",
            "[4,    50] loss: 1.456\n",
            "[4,   100] loss: 1.448\n",
            "[4,   150] loss: 1.434\n",
            "[5,    50] loss: 1.390\n",
            "[5,   100] loss: 1.384\n",
            "[5,   150] loss: 1.382\n",
            "[6,    50] loss: 1.352\n",
            "[6,   100] loss: 1.323\n",
            "[6,   150] loss: 1.321\n",
            "[7,    50] loss: 1.288\n",
            "[7,   100] loss: 1.301\n",
            "[7,   150] loss: 1.294\n",
            "[8,    50] loss: 1.250\n",
            "[8,   100] loss: 1.252\n",
            "[8,   150] loss: 1.240\n",
            "[9,    50] loss: 1.230\n",
            "[9,   100] loss: 1.199\n",
            "[9,   150] loss: 1.211\n",
            "[10,    50] loss: 1.187\n",
            "[10,   100] loss: 1.198\n",
            "[10,   150] loss: 1.182\n",
            "[11,    50] loss: 1.153\n",
            "[11,   100] loss: 1.167\n",
            "[11,   150] loss: 1.151\n",
            "[12,    50] loss: 1.125\n",
            "[12,   100] loss: 1.140\n",
            "[12,   150] loss: 1.142\n",
            "[13,    50] loss: 1.130\n",
            "[13,   100] loss: 1.111\n",
            "[13,   150] loss: 1.093\n",
            "[14,    50] loss: 1.064\n",
            "[14,   100] loss: 1.101\n",
            "[14,   150] loss: 1.072\n",
            "[15,    50] loss: 1.052\n",
            "[15,   100] loss: 1.076\n",
            "[15,   150] loss: 1.062\n",
            "[16,    50] loss: 1.047\n",
            "[16,   100] loss: 1.025\n",
            "[16,   150] loss: 1.041\n",
            "[17,    50] loss: 1.012\n",
            "[17,   100] loss: 1.019\n",
            "[17,   150] loss: 1.031\n",
            "[18,    50] loss: 1.016\n",
            "[18,   100] loss: 0.989\n",
            "[18,   150] loss: 0.994\n",
            "[19,    50] loss: 0.986\n",
            "[19,   100] loss: 0.975\n",
            "[19,   150] loss: 0.977\n",
            "[20,    50] loss: 0.958\n",
            "[20,   100] loss: 0.969\n",
            "[20,   150] loss: 0.950\n",
            "Finished Training\n"
          ]
        }
      ],
      "source": [
        "def set_random_seed(seed):\n",
        "     torch.manual_seed(seed)\n",
        "     torch.cuda.manual_seed_all(seed)\n",
        "     np.random.seed(seed)\n",
        "     random.seed(seed)\n",
        "     torch.backends.cudnn.deterministic = True\n",
        "set_random_seed(0)\n",
        "\n",
        "for epoch in range(20):  # loop over the dataset multiple times\n",
        "\n",
        "    running_loss = 0.0\n",
        "    for i, data in enumerate(trainloader, 0):\n",
        "        # get the inputs; data is a list of [inputs, labels]\n",
        "        inputs, labels = data\n",
        "        inputs = inputs.cuda()\n",
        "        labels = labels.cuda()\n",
        "\n",
        "        # zero the parameter gradients\n",
        "        optimizer.zero_grad()\n",
        "\n",
        "        # forward + backward + optimize\n",
        "        outputs = net(inputs)\n",
        "        loss = criterion(outputs, labels)\n",
        "        loss.backward()\n",
        "        optimizer.step()\n",
        "\n",
        "        # print statistics\n",
        "        running_loss += loss.item()\n",
        "        if i % 50 == 49:    # print every 2000 mini-batches\n",
        "            print('[%d, %5d] loss: %.3f' %\n",
        "                  (epoch + 1, i + 1, running_loss / 50))\n",
        "            running_loss = 0.0\n",
        "\n",
        "print('Finished Training')"
      ]
    },
    {
      "cell_type": "code",
      "execution_count": null,
      "metadata": {
        "colab": {
          "base_uri": "https://localhost:8080/"
        },
        "id": "4z5zzHvrvkPl",
        "outputId": "4c83c113-1d50-4b01-da3b-4f0443cff4d8"
      },
      "outputs": [
        {
          "name": "stdout",
          "output_type": "stream",
          "text": [
            "Accuracy of the network on the 10000 test images: 60 %\n"
          ]
        }
      ],
      "source": [
        "correct = 0\n",
        "total = 0\n",
        "with torch.no_grad():\n",
        "    for data in testloader:\n",
        "        images, labels = data\n",
        "        images = images.cuda()\n",
        "        labels = labels.cuda()\n",
        "        outputs = net(images)\n",
        "        _, predicted = torch.max(outputs.data, 1)\n",
        "        total += labels.size(0)\n",
        "        correct += (predicted == labels).sum().item()\n",
        "\n",
        "print('Accuracy of the network on the 10000 test images: %d %%' % (\n",
        "    100 * correct / total))"
      ]
    },
    {
      "cell_type": "markdown",
      "metadata": {
        "collapsed": true,
        "id": "nBHKIxzAYYM2"
      },
      "source": [
        "## Problem 3: Fine Tuning a Pre-Trained Deep Network \n",
        "Our convolutional network to this point isn't \"deep\". Fortunately, the representations learned by deep convolutional networks generalize surprisingly well to other recognition tasks. The pretrained model is obtained on Cifar-100 for 100 classes classification, and you will adapt it to Cifar-10 for 10 classes classification.\n",
        "\n",
        "You should keep training logs as they are in the block's output.      \n",
        "       \n",
        "**Hints**:\n",
        "- For fine-tuning pretrained network using PyTorch, please read this [tutorial](http://pytorch.org/tutorials/beginner/transfer_learning_tutorial.html)."
      ]
    },
    {
      "cell_type": "code",
      "execution_count": null,
      "metadata": {
        "id": "LzA7QGYEEY-X"
      },
      "outputs": [],
      "source": [
        "import torch.nn as nn\n",
        "import torch.nn.functional as F\n",
        "\n",
        "\n",
        "class FineTuneNet(nn.Module):\n",
        "    def __init__(self):\n",
        "        super(FineTuneNet, self).__init__()\n",
        "        self.model_ft = ResNet().cuda()\n",
        "        self.model_ft.load_state_dict(torch.load('./cifar100_net.pth'))\n",
        "        self.model_ft.fc_layer = nn.Sequential(\n",
        "            nn.Linear(256,100),\n",
        "            nn.ReLU(),\n",
        "            nn.Linear(100,10)\n",
        "            )\n",
        "\n",
        "\n",
        "    def forward(self, x):\n",
        "        out = self.model_ft.forward(x)\n",
        "        return out\n",
        "        \n",
        "\n",
        "fineTuneNet = FineTuneNet().cuda()"
      ]
    },
    {
      "cell_type": "code",
      "execution_count": null,
      "metadata": {
        "id": "oQB0a2P5JyWi"
      },
      "outputs": [],
      "source": [
        "import torch.optim as optim\n",
        "\n",
        "criterion = nn.CrossEntropyLoss()\n",
        "optimizer = optim.SGD(fineTuneNet.parameters(), lr=0.001, momentum=0.9)"
      ]
    },
    {
      "cell_type": "code",
      "execution_count": null,
      "metadata": {
        "colab": {
          "base_uri": "https://localhost:8080/"
        },
        "id": "85iOdslMJ56Z",
        "outputId": "fcc8d2ae-809e-4674-a2cf-e71b25b07c54"
      },
      "outputs": [
        {
          "name": "stdout",
          "output_type": "stream",
          "text": [
            "[1,    50] loss: 2.041\n",
            "[1,   100] loss: 1.383\n",
            "[1,   150] loss: 1.090\n",
            "[2,    50] loss: 0.849\n",
            "[2,   100] loss: 0.791\n",
            "[2,   150] loss: 0.775\n",
            "[3,    50] loss: 0.695\n",
            "[3,   100] loss: 0.653\n",
            "[3,   150] loss: 0.640\n",
            "[4,    50] loss: 0.592\n",
            "[4,   100] loss: 0.590\n",
            "[4,   150] loss: 0.585\n",
            "[5,    50] loss: 0.537\n",
            "[5,   100] loss: 0.541\n",
            "[5,   150] loss: 0.535\n",
            "[6,    50] loss: 0.496\n",
            "[6,   100] loss: 0.493\n",
            "[6,   150] loss: 0.503\n",
            "[7,    50] loss: 0.459\n",
            "[7,   100] loss: 0.477\n",
            "[7,   150] loss: 0.452\n",
            "[8,    50] loss: 0.441\n",
            "[8,   100] loss: 0.437\n",
            "[8,   150] loss: 0.424\n",
            "[9,    50] loss: 0.413\n",
            "[9,   100] loss: 0.402\n",
            "[9,   150] loss: 0.408\n",
            "[10,    50] loss: 0.378\n",
            "[10,   100] loss: 0.383\n",
            "[10,   150] loss: 0.391\n",
            "[11,    50] loss: 0.364\n",
            "[11,   100] loss: 0.357\n",
            "[11,   150] loss: 0.361\n",
            "[12,    50] loss: 0.331\n",
            "[12,   100] loss: 0.349\n",
            "[12,   150] loss: 0.352\n",
            "[13,    50] loss: 0.321\n",
            "[13,   100] loss: 0.318\n",
            "[13,   150] loss: 0.325\n",
            "[14,    50] loss: 0.296\n",
            "[14,   100] loss: 0.312\n",
            "[14,   150] loss: 0.297\n",
            "[15,    50] loss: 0.281\n",
            "[15,   100] loss: 0.288\n",
            "[15,   150] loss: 0.287\n",
            "[16,    50] loss: 0.270\n",
            "[16,   100] loss: 0.267\n",
            "[16,   150] loss: 0.262\n",
            "[17,    50] loss: 0.251\n",
            "[17,   100] loss: 0.244\n",
            "[17,   150] loss: 0.249\n",
            "[18,    50] loss: 0.229\n",
            "[18,   100] loss: 0.233\n",
            "[18,   150] loss: 0.230\n",
            "[19,    50] loss: 0.216\n",
            "[19,   100] loss: 0.221\n",
            "[19,   150] loss: 0.218\n",
            "[20,    50] loss: 0.195\n",
            "[20,   100] loss: 0.196\n",
            "[20,   150] loss: 0.204\n",
            "Finished Training\n"
          ]
        }
      ],
      "source": [
        "def set_random_seed(seed):\n",
        "     torch.manual_seed(seed)\n",
        "     torch.cuda.manual_seed_all(seed)\n",
        "     np.random.seed(seed)\n",
        "     random.seed(seed)\n",
        "     torch.backends.cudnn.deterministic = True\n",
        "set_random_seed(0)\n",
        "\n",
        "for epoch in range(20):  # loop over the dataset multiple times\n",
        "\n",
        "    running_loss = 0.0\n",
        "    for i, data in enumerate(trainloader, 0):\n",
        "        # get the inputs; data is a list of [inputs, labels]\n",
        "        inputs, labels = data\n",
        "        inputs = inputs.cuda()\n",
        "        labels = labels.cuda()\n",
        "\n",
        "        # zero the parameter gradients\n",
        "        optimizer.zero_grad()\n",
        "\n",
        "        # forward + backward + optimize\n",
        "        outputs = fineTuneNet(inputs)\n",
        "        loss = criterion(outputs, labels)\n",
        "        loss.backward()\n",
        "        optimizer.step()\n",
        "\n",
        "        # print statistics\n",
        "        running_loss += loss.item()\n",
        "        if i % 50 == 49:    # print every 2000 mini-batches\n",
        "            print('[%d, %5d] loss: %.3f' %\n",
        "                  (epoch + 1, i + 1, running_loss / 50))\n",
        "            running_loss = 0.0\n",
        "\n",
        "print('Finished Training')"
      ]
    },
    {
      "cell_type": "code",
      "execution_count": null,
      "metadata": {
        "colab": {
          "base_uri": "https://localhost:8080/"
        },
        "id": "tVjFElQ-KCsb",
        "outputId": "4f49b4de-f86b-43f6-f51c-1c992e5a7aa3"
      },
      "outputs": [
        {
          "name": "stdout",
          "output_type": "stream",
          "text": [
            "Accuracy of the network on the 10000 test images: 84 %\n"
          ]
        }
      ],
      "source": [
        "correct = 0\n",
        "total = 0\n",
        "with torch.no_grad():\n",
        "    for data in testloader:\n",
        "        images, labels = data\n",
        "        images = images.cuda()\n",
        "        labels = labels.cuda()\n",
        "        outputs = fineTuneNet(images)\n",
        "        _, predicted = torch.max(outputs.data, 1)\n",
        "        total += labels.size(0)\n",
        "        correct += (predicted == labels).sum().item()\n",
        "\n",
        "print('Accuracy of the network on the 10000 test images: %d %%' % (\n",
        "    100 * correct / total))"
      ]
    },
    {
      "cell_type": "markdown",
      "metadata": {
        "id": "AYJOi8QYYYNG"
      },
      "source": [
        "<!--Write your report here in markdown or html-->\n"
      ]
    }
  ],
  "metadata": {
    "accelerator": "GPU",
    "anaconda-cloud": {},
    "colab": {
      "collapsed_sections": [
        "HnkJ-LmJyBod"
      ],
      "machine_shape": "hm",
      "name": "CSE352_21S_A4.ipynb",
      "provenance": []
    },
    "kernelspec": {
      "display_name": "Python 3",
      "name": "python3"
    },
    "language_info": {
      "codemirror_mode": {
        "name": "ipython",
        "version": 3
      },
      "file_extension": ".py",
      "mimetype": "text/x-python",
      "name": "python",
      "nbconvert_exporter": "python",
      "pygments_lexer": "ipython3",
      "version": "3.7.3"
    }
  },
  "nbformat": 4,
  "nbformat_minor": 0
}
